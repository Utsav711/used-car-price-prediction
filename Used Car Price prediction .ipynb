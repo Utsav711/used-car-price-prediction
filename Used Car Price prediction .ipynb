{
 "cells": [
  {
   "cell_type": "markdown",
   "id": "7d158017",
   "metadata": {},
   "source": [
    "# Car Price Prediction"
   ]
  },
  {
   "cell_type": "code",
   "execution_count": 1,
   "id": "a2ee474a",
   "metadata": {},
   "outputs": [],
   "source": [
    "import seaborn as sns\n",
    "import matplotlib.pyplot as plt\n",
    "import statsmodels.api as sm\n",
    "import numpy as np\n",
    "import pandas as pd\n",
    "\n",
    "import sklearn\n",
    "import sklearn.metrics as metrics\n",
    "from sklearn.metrics import r2_score\n",
    "from sklearn.preprocessing import StandardScaler\n",
    "from sklearn.linear_model import LinearRegression\n",
    "from sklearn.tree import DecisionTreeRegressor\n",
    "from sklearn.ensemble import RandomForestRegressor\n",
    "from statsmodels.formula.api import ols\n",
    "from sklearn.model_selection import train_test_split\n",
    "from scipy.stats import zscore\n",
    "from sklearn.preprocessing import LabelEncoder\n",
    "import pickle\n",
    "from sklearn.model_selection import GridSearchCV, RandomizedSearchCV\n",
    "import statsmodels.api as sm\n",
    "from statsmodels.stats.outliers_influence import variance_inflation_factor\n",
    "from sklearn.model_selection import RandomizedSearchCV\n",
    "from sklearn.model_selection import cross_val_score\n",
    "from sklearn.metrics import mean_squared_error, mean_absolute_error\n",
    "from sklearn.linear_model import Ridge,Lasso,RidgeCV,LassoCV\n",
    "import warnings\n",
    "warnings.filterwarnings('ignore')"
   ]
  },
  {
   "cell_type": "code",
   "execution_count": 87,
   "id": "5317f50e",
   "metadata": {},
   "outputs": [],
   "source": [
    "pd.options.plotting.backend = \"matplotlib\""
   ]
  },
  {
   "cell_type": "code",
   "execution_count": 27,
   "id": "137aa570",
   "metadata": {},
   "outputs": [],
   "source": [
    "df=pd.read_csv(\"cleaned final car dataset\")"
   ]
  },
  {
   "cell_type": "code",
   "execution_count": 28,
   "id": "2acfbc31",
   "metadata": {},
   "outputs": [
    {
     "data": {
      "text/html": [
       "<div>\n",
       "<style scoped>\n",
       "    .dataframe tbody tr th:only-of-type {\n",
       "        vertical-align: middle;\n",
       "    }\n",
       "\n",
       "    .dataframe tbody tr th {\n",
       "        vertical-align: top;\n",
       "    }\n",
       "\n",
       "    .dataframe thead th {\n",
       "        text-align: right;\n",
       "    }\n",
       "</style>\n",
       "<table border=\"1\" class=\"dataframe\">\n",
       "  <thead>\n",
       "    <tr style=\"text-align: right;\">\n",
       "      <th></th>\n",
       "      <th>Unnamed: 0</th>\n",
       "      <th>name</th>\n",
       "      <th>price</th>\n",
       "      <th>Location</th>\n",
       "      <th>Fuel type</th>\n",
       "      <th>Transmission</th>\n",
       "      <th>Kms driven</th>\n",
       "      <th>year</th>\n",
       "      <th>Company Name</th>\n",
       "    </tr>\n",
       "  </thead>\n",
       "  <tbody>\n",
       "    <tr>\n",
       "      <th>3048</th>\n",
       "      <td>3048</td>\n",
       "      <td>Verna SX (O)</td>\n",
       "      <td>10,17,499</td>\n",
       "      <td>Bengaluru</td>\n",
       "      <td>Petrol</td>\n",
       "      <td>manual</td>\n",
       "      <td>30,646</td>\n",
       "      <td>2017</td>\n",
       "      <td>Hyundai</td>\n",
       "    </tr>\n",
       "    <tr>\n",
       "      <th>1624</th>\n",
       "      <td>1624</td>\n",
       "      <td>i20 Asta (O)</td>\n",
       "      <td>6,24,837</td>\n",
       "      <td>Mumbai</td>\n",
       "      <td>Petrol</td>\n",
       "      <td>manual</td>\n",
       "      <td>51,525</td>\n",
       "      <td>2017</td>\n",
       "      <td>Hyundai</td>\n",
       "    </tr>\n",
       "    <tr>\n",
       "      <th>2213</th>\n",
       "      <td>2213</td>\n",
       "      <td>Glanza G</td>\n",
       "      <td>8,07,499</td>\n",
       "      <td>Pune</td>\n",
       "      <td>Petrol</td>\n",
       "      <td>automatic</td>\n",
       "      <td>21,288</td>\n",
       "      <td>2019</td>\n",
       "      <td>Toyota</td>\n",
       "    </tr>\n",
       "    <tr>\n",
       "      <th>2388</th>\n",
       "      <td>2388</td>\n",
       "      <td>EcoSport Titanium + Ti-VCT</td>\n",
       "      <td>11,09,542</td>\n",
       "      <td>Pune</td>\n",
       "      <td>Petrol</td>\n",
       "      <td>manual</td>\n",
       "      <td>6,934</td>\n",
       "      <td>2020</td>\n",
       "      <td>Ford</td>\n",
       "    </tr>\n",
       "    <tr>\n",
       "      <th>454</th>\n",
       "      <td>454</td>\n",
       "      <td>Creta E Plus</td>\n",
       "      <td>9,05,039</td>\n",
       "      <td>Delhi</td>\n",
       "      <td>Diesel</td>\n",
       "      <td>manual</td>\n",
       "      <td>53,502</td>\n",
       "      <td>2018</td>\n",
       "      <td>Hyundai</td>\n",
       "    </tr>\n",
       "    <tr>\n",
       "      <th>4304</th>\n",
       "      <td>4304</td>\n",
       "      <td>A4 2.0 TDI 177 Bhp Technology Edition</td>\n",
       "      <td>17,99,999</td>\n",
       "      <td>Hyderabad</td>\n",
       "      <td>Diesel</td>\n",
       "      <td>automatic</td>\n",
       "      <td>71,000</td>\n",
       "      <td>2014</td>\n",
       "      <td>Audi</td>\n",
       "    </tr>\n",
       "  </tbody>\n",
       "</table>\n",
       "</div>"
      ],
      "text/plain": [
       "      Unnamed: 0                                   name      price   Location  \\\n",
       "3048        3048                           Verna SX (O)  10,17,499  Bengaluru   \n",
       "1624        1624                           i20 Asta (O)   6,24,837     Mumbai   \n",
       "2213        2213                               Glanza G   8,07,499       Pune   \n",
       "2388        2388             EcoSport Titanium + Ti-VCT  11,09,542       Pune   \n",
       "454          454                           Creta E Plus   9,05,039      Delhi   \n",
       "4304        4304  A4 2.0 TDI 177 Bhp Technology Edition  17,99,999  Hyderabad   \n",
       "\n",
       "     Fuel type Transmission Kms driven  year Company Name  \n",
       "3048    Petrol       manual     30,646  2017      Hyundai  \n",
       "1624    Petrol       manual     51,525  2017      Hyundai  \n",
       "2213    Petrol    automatic     21,288  2019       Toyota  \n",
       "2388    Petrol       manual      6,934  2020         Ford  \n",
       "454     Diesel       manual     53,502  2018      Hyundai  \n",
       "4304    Diesel    automatic    71,000   2014         Audi  "
      ]
     },
     "execution_count": 28,
     "metadata": {},
     "output_type": "execute_result"
    }
   ],
   "source": [
    "df.sample(6)"
   ]
  },
  {
   "cell_type": "code",
   "execution_count": 29,
   "id": "9a205b46",
   "metadata": {},
   "outputs": [
    {
     "data": {
      "text/plain": [
       "Index(['Unnamed: 0', 'name', 'price', 'Location', 'Fuel type', 'Transmission',\n",
       "       'Kms driven', 'year', 'Company Name'],\n",
       "      dtype='object')"
      ]
     },
     "execution_count": 29,
     "metadata": {},
     "output_type": "execute_result"
    }
   ],
   "source": [
    "df.columns"
   ]
  },
  {
   "cell_type": "code",
   "execution_count": 30,
   "id": "987dbc02",
   "metadata": {},
   "outputs": [
    {
     "data": {
      "text/plain": [
       "(5169, 9)"
      ]
     },
     "execution_count": 30,
     "metadata": {},
     "output_type": "execute_result"
    }
   ],
   "source": [
    "df.shape"
   ]
  },
  {
   "cell_type": "code",
   "execution_count": 31,
   "id": "38341685",
   "metadata": {},
   "outputs": [
    {
     "name": "stdout",
     "output_type": "stream",
     "text": [
      "<class 'pandas.core.frame.DataFrame'>\n",
      "RangeIndex: 5169 entries, 0 to 5168\n",
      "Data columns (total 9 columns):\n",
      " #   Column        Non-Null Count  Dtype \n",
      "---  ------        --------------  ----- \n",
      " 0   Unnamed: 0    5169 non-null   int64 \n",
      " 1   name          5169 non-null   object\n",
      " 2   price         5169 non-null   object\n",
      " 3   Location      5169 non-null   object\n",
      " 4   Fuel type     5169 non-null   object\n",
      " 5   Transmission  5162 non-null   object\n",
      " 6   Kms driven    5169 non-null   object\n",
      " 7   year          5169 non-null   int64 \n",
      " 8   Company Name  5169 non-null   object\n",
      "dtypes: int64(2), object(7)\n",
      "memory usage: 363.6+ KB\n"
     ]
    }
   ],
   "source": [
    "df.info()"
   ]
  },
  {
   "cell_type": "code",
   "execution_count": 32,
   "id": "e64e8170",
   "metadata": {},
   "outputs": [
    {
     "data": {
      "text/plain": [
       "Unnamed: 0      0\n",
       "name            0\n",
       "price           0\n",
       "Location        0\n",
       "Fuel type       0\n",
       "Transmission    7\n",
       "Kms driven      0\n",
       "year            0\n",
       "Company Name    0\n",
       "dtype: int64"
      ]
     },
     "execution_count": 32,
     "metadata": {},
     "output_type": "execute_result"
    }
   ],
   "source": [
    "df.isnull().sum()"
   ]
  },
  {
   "cell_type": "code",
   "execution_count": 33,
   "id": "6610a97a",
   "metadata": {},
   "outputs": [
    {
     "data": {
      "text/html": [
       "<div>\n",
       "<style scoped>\n",
       "    .dataframe tbody tr th:only-of-type {\n",
       "        vertical-align: middle;\n",
       "    }\n",
       "\n",
       "    .dataframe tbody tr th {\n",
       "        vertical-align: top;\n",
       "    }\n",
       "\n",
       "    .dataframe thead th {\n",
       "        text-align: right;\n",
       "    }\n",
       "</style>\n",
       "<table border=\"1\" class=\"dataframe\">\n",
       "  <thead>\n",
       "    <tr style=\"text-align: right;\">\n",
       "      <th></th>\n",
       "      <th>Unnamed: 0</th>\n",
       "      <th>name</th>\n",
       "      <th>price</th>\n",
       "      <th>Location</th>\n",
       "      <th>Fuel type</th>\n",
       "      <th>Transmission</th>\n",
       "      <th>Kms driven</th>\n",
       "      <th>year</th>\n",
       "      <th>Company Name</th>\n",
       "    </tr>\n",
       "  </thead>\n",
       "  <tbody>\n",
       "    <tr>\n",
       "      <th>count</th>\n",
       "      <td>5169.000000</td>\n",
       "      <td>5169</td>\n",
       "      <td>5169</td>\n",
       "      <td>5169</td>\n",
       "      <td>5169</td>\n",
       "      <td>5162</td>\n",
       "      <td>5169</td>\n",
       "      <td>5169.000000</td>\n",
       "      <td>5169</td>\n",
       "    </tr>\n",
       "    <tr>\n",
       "      <th>unique</th>\n",
       "      <td>NaN</td>\n",
       "      <td>1348</td>\n",
       "      <td>3571</td>\n",
       "      <td>6</td>\n",
       "      <td>5</td>\n",
       "      <td>5</td>\n",
       "      <td>4157</td>\n",
       "      <td>NaN</td>\n",
       "      <td>29</td>\n",
       "    </tr>\n",
       "    <tr>\n",
       "      <th>top</th>\n",
       "      <td>NaN</td>\n",
       "      <td>Wagon R VXi</td>\n",
       "      <td>4,50,000</td>\n",
       "      <td>Pune</td>\n",
       "      <td>Petrol</td>\n",
       "      <td>manual</td>\n",
       "      <td>1,20,000</td>\n",
       "      <td>NaN</td>\n",
       "      <td>Maruti</td>\n",
       "    </tr>\n",
       "    <tr>\n",
       "      <th>freq</th>\n",
       "      <td>NaN</td>\n",
       "      <td>101</td>\n",
       "      <td>57</td>\n",
       "      <td>999</td>\n",
       "      <td>3360</td>\n",
       "      <td>4160</td>\n",
       "      <td>46</td>\n",
       "      <td>NaN</td>\n",
       "      <td>1822</td>\n",
       "    </tr>\n",
       "    <tr>\n",
       "      <th>mean</th>\n",
       "      <td>2584.000000</td>\n",
       "      <td>NaN</td>\n",
       "      <td>NaN</td>\n",
       "      <td>NaN</td>\n",
       "      <td>NaN</td>\n",
       "      <td>NaN</td>\n",
       "      <td>NaN</td>\n",
       "      <td>2015.521377</td>\n",
       "      <td>NaN</td>\n",
       "    </tr>\n",
       "    <tr>\n",
       "      <th>std</th>\n",
       "      <td>1492.306101</td>\n",
       "      <td>NaN</td>\n",
       "      <td>NaN</td>\n",
       "      <td>NaN</td>\n",
       "      <td>NaN</td>\n",
       "      <td>NaN</td>\n",
       "      <td>NaN</td>\n",
       "      <td>3.018707</td>\n",
       "      <td>NaN</td>\n",
       "    </tr>\n",
       "    <tr>\n",
       "      <th>min</th>\n",
       "      <td>0.000000</td>\n",
       "      <td>NaN</td>\n",
       "      <td>NaN</td>\n",
       "      <td>NaN</td>\n",
       "      <td>NaN</td>\n",
       "      <td>NaN</td>\n",
       "      <td>NaN</td>\n",
       "      <td>1981.000000</td>\n",
       "      <td>NaN</td>\n",
       "    </tr>\n",
       "    <tr>\n",
       "      <th>25%</th>\n",
       "      <td>1292.000000</td>\n",
       "      <td>NaN</td>\n",
       "      <td>NaN</td>\n",
       "      <td>NaN</td>\n",
       "      <td>NaN</td>\n",
       "      <td>NaN</td>\n",
       "      <td>NaN</td>\n",
       "      <td>2014.000000</td>\n",
       "      <td>NaN</td>\n",
       "    </tr>\n",
       "    <tr>\n",
       "      <th>50%</th>\n",
       "      <td>2584.000000</td>\n",
       "      <td>NaN</td>\n",
       "      <td>NaN</td>\n",
       "      <td>NaN</td>\n",
       "      <td>NaN</td>\n",
       "      <td>NaN</td>\n",
       "      <td>NaN</td>\n",
       "      <td>2016.000000</td>\n",
       "      <td>NaN</td>\n",
       "    </tr>\n",
       "    <tr>\n",
       "      <th>75%</th>\n",
       "      <td>3876.000000</td>\n",
       "      <td>NaN</td>\n",
       "      <td>NaN</td>\n",
       "      <td>NaN</td>\n",
       "      <td>NaN</td>\n",
       "      <td>NaN</td>\n",
       "      <td>NaN</td>\n",
       "      <td>2018.000000</td>\n",
       "      <td>NaN</td>\n",
       "    </tr>\n",
       "    <tr>\n",
       "      <th>max</th>\n",
       "      <td>5168.000000</td>\n",
       "      <td>NaN</td>\n",
       "      <td>NaN</td>\n",
       "      <td>NaN</td>\n",
       "      <td>NaN</td>\n",
       "      <td>NaN</td>\n",
       "      <td>NaN</td>\n",
       "      <td>2021.000000</td>\n",
       "      <td>NaN</td>\n",
       "    </tr>\n",
       "  </tbody>\n",
       "</table>\n",
       "</div>"
      ],
      "text/plain": [
       "         Unnamed: 0         name     price Location Fuel type Transmission  \\\n",
       "count   5169.000000         5169      5169     5169      5169         5162   \n",
       "unique          NaN         1348      3571        6         5            5   \n",
       "top             NaN  Wagon R VXi  4,50,000     Pune    Petrol       manual   \n",
       "freq            NaN          101        57      999      3360         4160   \n",
       "mean    2584.000000          NaN       NaN      NaN       NaN          NaN   \n",
       "std     1492.306101          NaN       NaN      NaN       NaN          NaN   \n",
       "min        0.000000          NaN       NaN      NaN       NaN          NaN   \n",
       "25%     1292.000000          NaN       NaN      NaN       NaN          NaN   \n",
       "50%     2584.000000          NaN       NaN      NaN       NaN          NaN   \n",
       "75%     3876.000000          NaN       NaN      NaN       NaN          NaN   \n",
       "max     5168.000000          NaN       NaN      NaN       NaN          NaN   \n",
       "\n",
       "       Kms driven         year Company Name  \n",
       "count        5169  5169.000000         5169  \n",
       "unique       4157          NaN           29  \n",
       "top     1,20,000           NaN       Maruti  \n",
       "freq           46          NaN         1822  \n",
       "mean          NaN  2015.521377          NaN  \n",
       "std           NaN     3.018707          NaN  \n",
       "min           NaN  1981.000000          NaN  \n",
       "25%           NaN  2014.000000          NaN  \n",
       "50%           NaN  2016.000000          NaN  \n",
       "75%           NaN  2018.000000          NaN  \n",
       "max           NaN  2021.000000          NaN  "
      ]
     },
     "execution_count": 33,
     "metadata": {},
     "output_type": "execute_result"
    }
   ],
   "source": [
    "df.describe(include='all')"
   ]
  },
  {
   "cell_type": "markdown",
   "id": "444db034",
   "metadata": {},
   "source": [
    "Observations:\n",
    "   - 7 null values are present in Transmission, which we can impute with mode\n",
    "   - we need to convert the dtype of some columns to int or float as they are recorded as strings\n",
    "   - we can drop the index column, its useless in terms\n",
    "   - Some outliers are present"
   ]
  },
  {
   "cell_type": "markdown",
   "id": "6a7b6e25",
   "metadata": {},
   "source": [
    "### Data Preprocessing:"
   ]
  },
  {
   "cell_type": "code",
   "execution_count": 34,
   "id": "d5a6b9c7",
   "metadata": {},
   "outputs": [
    {
     "data": {
      "text/html": [
       "<div>\n",
       "<style scoped>\n",
       "    .dataframe tbody tr th:only-of-type {\n",
       "        vertical-align: middle;\n",
       "    }\n",
       "\n",
       "    .dataframe tbody tr th {\n",
       "        vertical-align: top;\n",
       "    }\n",
       "\n",
       "    .dataframe thead th {\n",
       "        text-align: right;\n",
       "    }\n",
       "</style>\n",
       "<table border=\"1\" class=\"dataframe\">\n",
       "  <thead>\n",
       "    <tr style=\"text-align: right;\">\n",
       "      <th></th>\n",
       "      <th>Unnamed: 0</th>\n",
       "      <th>name</th>\n",
       "      <th>price</th>\n",
       "      <th>Location</th>\n",
       "      <th>Fuel type</th>\n",
       "      <th>Transmission</th>\n",
       "      <th>Kms driven</th>\n",
       "      <th>year</th>\n",
       "      <th>Company Name</th>\n",
       "    </tr>\n",
       "  </thead>\n",
       "  <tbody>\n",
       "    <tr>\n",
       "      <th>0</th>\n",
       "      <td>0</td>\n",
       "      <td>Creta E</td>\n",
       "      <td>664999</td>\n",
       "      <td>Delhi</td>\n",
       "      <td>Petrol</td>\n",
       "      <td>manual</td>\n",
       "      <td>40224</td>\n",
       "      <td>2016</td>\n",
       "      <td>Hyundai</td>\n",
       "    </tr>\n",
       "    <tr>\n",
       "      <th>1</th>\n",
       "      <td>1</td>\n",
       "      <td>Wagon R LXi</td>\n",
       "      <td>343954</td>\n",
       "      <td>Delhi</td>\n",
       "      <td>CNG</td>\n",
       "      <td>manual</td>\n",
       "      <td>68557</td>\n",
       "      <td>2017</td>\n",
       "      <td>Maruti</td>\n",
       "    </tr>\n",
       "    <tr>\n",
       "      <th>2</th>\n",
       "      <td>2</td>\n",
       "      <td>Creta S</td>\n",
       "      <td>707999</td>\n",
       "      <td>Delhi</td>\n",
       "      <td>Petrol</td>\n",
       "      <td>manual</td>\n",
       "      <td>70447</td>\n",
       "      <td>2015</td>\n",
       "      <td>Hyundai</td>\n",
       "    </tr>\n",
       "    <tr>\n",
       "      <th>3</th>\n",
       "      <td>3</td>\n",
       "      <td>Swift VDi</td>\n",
       "      <td>230449</td>\n",
       "      <td>Delhi</td>\n",
       "      <td>Diesel</td>\n",
       "      <td>manual</td>\n",
       "      <td>88658</td>\n",
       "      <td>2012</td>\n",
       "      <td>Maruti</td>\n",
       "    </tr>\n",
       "    <tr>\n",
       "      <th>4</th>\n",
       "      <td>4</td>\n",
       "      <td>Kwid RXT</td>\n",
       "      <td>228751</td>\n",
       "      <td>Delhi</td>\n",
       "      <td>Petrol</td>\n",
       "      <td>manual</td>\n",
       "      <td>30606</td>\n",
       "      <td>2016</td>\n",
       "      <td>Renault</td>\n",
       "    </tr>\n",
       "    <tr>\n",
       "      <th>...</th>\n",
       "      <td>...</td>\n",
       "      <td>...</td>\n",
       "      <td>...</td>\n",
       "      <td>...</td>\n",
       "      <td>...</td>\n",
       "      <td>...</td>\n",
       "      <td>...</td>\n",
       "      <td>...</td>\n",
       "      <td>...</td>\n",
       "    </tr>\n",
       "    <tr>\n",
       "      <th>5164</th>\n",
       "      <td>5164</td>\n",
       "      <td>SX4 ZXI MT BSIV</td>\n",
       "      <td>271000</td>\n",
       "      <td>Pune</td>\n",
       "      <td>Petrol</td>\n",
       "      <td>manual</td>\n",
       "      <td>63000</td>\n",
       "      <td>2011</td>\n",
       "      <td>Maruti</td>\n",
       "    </tr>\n",
       "    <tr>\n",
       "      <th>5165</th>\n",
       "      <td>5165</td>\n",
       "      <td>New Laura 1.8 TSI Ambiente</td>\n",
       "      <td>325000</td>\n",
       "      <td>Pune</td>\n",
       "      <td>Petrol</td>\n",
       "      <td>manual</td>\n",
       "      <td>79000</td>\n",
       "      <td>2011</td>\n",
       "      <td>Skoda</td>\n",
       "    </tr>\n",
       "    <tr>\n",
       "      <th>5166</th>\n",
       "      <td>5166</td>\n",
       "      <td>Grand i10 Magna</td>\n",
       "      <td>460000</td>\n",
       "      <td>Pune</td>\n",
       "      <td>Petrol</td>\n",
       "      <td>manual</td>\n",
       "      <td>71234</td>\n",
       "      <td>2017</td>\n",
       "      <td>Hyundai</td>\n",
       "    </tr>\n",
       "    <tr>\n",
       "      <th>5167</th>\n",
       "      <td>5167</td>\n",
       "      <td>Nano Twist XT</td>\n",
       "      <td>145000</td>\n",
       "      <td>Pune</td>\n",
       "      <td>Petrol</td>\n",
       "      <td>manual</td>\n",
       "      <td>18070</td>\n",
       "      <td>2014</td>\n",
       "      <td>Tata</td>\n",
       "    </tr>\n",
       "    <tr>\n",
       "      <th>5168</th>\n",
       "      <td>5168</td>\n",
       "      <td>Figo Petrol ZXI</td>\n",
       "      <td>225000</td>\n",
       "      <td>Pune</td>\n",
       "      <td>Petrol</td>\n",
       "      <td>manual</td>\n",
       "      <td>53000</td>\n",
       "      <td>2011</td>\n",
       "      <td>Ford</td>\n",
       "    </tr>\n",
       "  </tbody>\n",
       "</table>\n",
       "<p>5169 rows × 9 columns</p>\n",
       "</div>"
      ],
      "text/plain": [
       "      Unnamed: 0                        name   price Location Fuel type  \\\n",
       "0              0                     Creta E  664999    Delhi    Petrol   \n",
       "1              1                 Wagon R LXi  343954    Delhi       CNG   \n",
       "2              2                     Creta S  707999    Delhi    Petrol   \n",
       "3              3                   Swift VDi  230449    Delhi    Diesel   \n",
       "4              4                    Kwid RXT  228751    Delhi    Petrol   \n",
       "...          ...                         ...     ...      ...       ...   \n",
       "5164        5164             SX4 ZXI MT BSIV  271000     Pune    Petrol   \n",
       "5165        5165  New Laura 1.8 TSI Ambiente  325000     Pune    Petrol   \n",
       "5166        5166             Grand i10 Magna  460000     Pune    Petrol   \n",
       "5167        5167               Nano Twist XT  145000     Pune    Petrol   \n",
       "5168        5168             Figo Petrol ZXI  225000     Pune    Petrol   \n",
       "\n",
       "     Transmission Kms driven  year Company Name  \n",
       "0          manual      40224  2016      Hyundai  \n",
       "1          manual      68557  2017       Maruti  \n",
       "2          manual      70447  2015      Hyundai  \n",
       "3          manual      88658  2012       Maruti  \n",
       "4          manual      30606  2016      Renault  \n",
       "...           ...        ...   ...          ...  \n",
       "5164       manual     63000   2011       Maruti  \n",
       "5165       manual     79000   2011        Skoda  \n",
       "5166       manual     71234   2017      Hyundai  \n",
       "5167       manual     18070   2014         Tata  \n",
       "5168       manual     53000   2011         Ford  \n",
       "\n",
       "[5169 rows x 9 columns]"
      ]
     },
     "execution_count": 34,
     "metadata": {},
     "output_type": "execute_result"
    }
   ],
   "source": [
    "for i in range(len(df[\"price\"])):\n",
    "    df[\"price\"][i]= df[\"price\"][i].replace(\",\",\"\")\n",
    "    df[\"Kms driven\"][i]= df[\"Kms driven\"][i].replace(\",\",\"\")\n",
    "df"
   ]
  },
  {
   "cell_type": "code",
   "execution_count": 40,
   "id": "3143f5b1",
   "metadata": {},
   "outputs": [],
   "source": [
    "df['Kms driven'] = df['Kms driven'].astype(int)\n",
    "df['price'] = df['price'].astype(int)"
   ]
  },
  {
   "cell_type": "code",
   "execution_count": 41,
   "id": "219ca76f",
   "metadata": {},
   "outputs": [
    {
     "data": {
      "text/plain": [
       "Unnamed: 0       int64\n",
       "name            object\n",
       "price            int32\n",
       "Location        object\n",
       "Fuel type       object\n",
       "Transmission    object\n",
       "Kms driven       int32\n",
       "year             int64\n",
       "Company Name    object\n",
       "dtype: object"
      ]
     },
     "execution_count": 41,
     "metadata": {},
     "output_type": "execute_result"
    }
   ],
   "source": [
    "df.dtypes"
   ]
  },
  {
   "cell_type": "code",
   "execution_count": 53,
   "id": "60da5687",
   "metadata": {},
   "outputs": [],
   "source": [
    "df.drop(\"Unnamed: 0\",inplace=True,axis=1)"
   ]
  },
  {
   "cell_type": "code",
   "execution_count": 57,
   "id": "a871aab7",
   "metadata": {},
   "outputs": [
    {
     "data": {
      "text/html": [
       "<div>\n",
       "<style scoped>\n",
       "    .dataframe tbody tr th:only-of-type {\n",
       "        vertical-align: middle;\n",
       "    }\n",
       "\n",
       "    .dataframe tbody tr th {\n",
       "        vertical-align: top;\n",
       "    }\n",
       "\n",
       "    .dataframe thead th {\n",
       "        text-align: right;\n",
       "    }\n",
       "</style>\n",
       "<table border=\"1\" class=\"dataframe\">\n",
       "  <thead>\n",
       "    <tr style=\"text-align: right;\">\n",
       "      <th></th>\n",
       "      <th>name</th>\n",
       "      <th>price</th>\n",
       "      <th>Location</th>\n",
       "      <th>Fuel type</th>\n",
       "      <th>Transmission</th>\n",
       "      <th>Kms driven</th>\n",
       "      <th>year</th>\n",
       "      <th>Company Name</th>\n",
       "    </tr>\n",
       "  </thead>\n",
       "  <tbody>\n",
       "    <tr>\n",
       "      <th>4578</th>\n",
       "      <td>Ertiga ZDI</td>\n",
       "      <td>725000</td>\n",
       "      <td>Pune</td>\n",
       "      <td>Diesel</td>\n",
       "      <td>manual</td>\n",
       "      <td>46811</td>\n",
       "      <td>2014</td>\n",
       "      <td>Maruti</td>\n",
       "    </tr>\n",
       "    <tr>\n",
       "      <th>3305</th>\n",
       "      <td>Grand i10 1.2 Kappa Asta</td>\n",
       "      <td>625000</td>\n",
       "      <td>Chennai</td>\n",
       "      <td>Petrol</td>\n",
       "      <td>manual</td>\n",
       "      <td>14000</td>\n",
       "      <td>2019</td>\n",
       "      <td>Hyundai</td>\n",
       "    </tr>\n",
       "    <tr>\n",
       "      <th>4283</th>\n",
       "      <td>Polo GT TSI</td>\n",
       "      <td>890000</td>\n",
       "      <td>Hyderabad</td>\n",
       "      <td>Petrol</td>\n",
       "      <td>automatic</td>\n",
       "      <td>73440</td>\n",
       "      <td>2018</td>\n",
       "      <td>Volkswagen</td>\n",
       "    </tr>\n",
       "    <tr>\n",
       "      <th>3178</th>\n",
       "      <td>Nexon 1.2 Revotron XMA</td>\n",
       "      <td>854850</td>\n",
       "      <td>Chennai</td>\n",
       "      <td>Petrol</td>\n",
       "      <td>automatic</td>\n",
       "      <td>12000</td>\n",
       "      <td>2019</td>\n",
       "      <td>Tata</td>\n",
       "    </tr>\n",
       "    <tr>\n",
       "      <th>303</th>\n",
       "      <td>WR-V VX</td>\n",
       "      <td>855464</td>\n",
       "      <td>Delhi</td>\n",
       "      <td>Diesel</td>\n",
       "      <td>manual</td>\n",
       "      <td>39405</td>\n",
       "      <td>2018</td>\n",
       "      <td>Honda</td>\n",
       "    </tr>\n",
       "  </tbody>\n",
       "</table>\n",
       "</div>"
      ],
      "text/plain": [
       "                          name   price   Location Fuel type Transmission  \\\n",
       "4578                Ertiga ZDI  725000       Pune    Diesel       manual   \n",
       "3305  Grand i10 1.2 Kappa Asta  625000    Chennai    Petrol       manual   \n",
       "4283               Polo GT TSI  890000  Hyderabad    Petrol    automatic   \n",
       "3178    Nexon 1.2 Revotron XMA  854850    Chennai    Petrol    automatic   \n",
       "303                    WR-V VX  855464      Delhi    Diesel       manual   \n",
       "\n",
       "      Kms driven  year Company Name  \n",
       "4578       46811  2014       Maruti  \n",
       "3305       14000  2019      Hyundai  \n",
       "4283       73440  2018   Volkswagen  \n",
       "3178       12000  2019         Tata  \n",
       "303        39405  2018        Honda  "
      ]
     },
     "execution_count": 57,
     "metadata": {},
     "output_type": "execute_result"
    }
   ],
   "source": [
    "df.sample(5)"
   ]
  },
  {
   "cell_type": "code",
   "execution_count": 58,
   "id": "b7453528",
   "metadata": {},
   "outputs": [
    {
     "data": {
      "text/html": [
       "<div>\n",
       "<style scoped>\n",
       "    .dataframe tbody tr th:only-of-type {\n",
       "        vertical-align: middle;\n",
       "    }\n",
       "\n",
       "    .dataframe tbody tr th {\n",
       "        vertical-align: top;\n",
       "    }\n",
       "\n",
       "    .dataframe thead th {\n",
       "        text-align: right;\n",
       "    }\n",
       "</style>\n",
       "<table border=\"1\" class=\"dataframe\">\n",
       "  <thead>\n",
       "    <tr style=\"text-align: right;\">\n",
       "      <th></th>\n",
       "      <th>name</th>\n",
       "      <th>price</th>\n",
       "      <th>Location</th>\n",
       "      <th>Fuel type</th>\n",
       "      <th>Transmission</th>\n",
       "      <th>Kms driven</th>\n",
       "      <th>year</th>\n",
       "      <th>Company Name</th>\n",
       "    </tr>\n",
       "  </thead>\n",
       "  <tbody>\n",
       "    <tr>\n",
       "      <th>count</th>\n",
       "      <td>5169</td>\n",
       "      <td>5.169000e+03</td>\n",
       "      <td>5169</td>\n",
       "      <td>5169</td>\n",
       "      <td>5162</td>\n",
       "      <td>5169.000000</td>\n",
       "      <td>5169.000000</td>\n",
       "      <td>5169</td>\n",
       "    </tr>\n",
       "    <tr>\n",
       "      <th>unique</th>\n",
       "      <td>1348</td>\n",
       "      <td>NaN</td>\n",
       "      <td>6</td>\n",
       "      <td>5</td>\n",
       "      <td>5</td>\n",
       "      <td>NaN</td>\n",
       "      <td>NaN</td>\n",
       "      <td>29</td>\n",
       "    </tr>\n",
       "    <tr>\n",
       "      <th>top</th>\n",
       "      <td>Wagon R VXi</td>\n",
       "      <td>NaN</td>\n",
       "      <td>Pune</td>\n",
       "      <td>Petrol</td>\n",
       "      <td>manual</td>\n",
       "      <td>NaN</td>\n",
       "      <td>NaN</td>\n",
       "      <td>Maruti</td>\n",
       "    </tr>\n",
       "    <tr>\n",
       "      <th>freq</th>\n",
       "      <td>101</td>\n",
       "      <td>NaN</td>\n",
       "      <td>999</td>\n",
       "      <td>3360</td>\n",
       "      <td>4160</td>\n",
       "      <td>NaN</td>\n",
       "      <td>NaN</td>\n",
       "      <td>1822</td>\n",
       "    </tr>\n",
       "    <tr>\n",
       "      <th>mean</th>\n",
       "      <td>NaN</td>\n",
       "      <td>6.355737e+05</td>\n",
       "      <td>NaN</td>\n",
       "      <td>NaN</td>\n",
       "      <td>NaN</td>\n",
       "      <td>51049.301025</td>\n",
       "      <td>2015.521377</td>\n",
       "      <td>NaN</td>\n",
       "    </tr>\n",
       "    <tr>\n",
       "      <th>std</th>\n",
       "      <td>NaN</td>\n",
       "      <td>5.048332e+05</td>\n",
       "      <td>NaN</td>\n",
       "      <td>NaN</td>\n",
       "      <td>NaN</td>\n",
       "      <td>31291.365449</td>\n",
       "      <td>3.018707</td>\n",
       "      <td>NaN</td>\n",
       "    </tr>\n",
       "    <tr>\n",
       "      <th>min</th>\n",
       "      <td>NaN</td>\n",
       "      <td>1.250000e+04</td>\n",
       "      <td>NaN</td>\n",
       "      <td>NaN</td>\n",
       "      <td>NaN</td>\n",
       "      <td>586.000000</td>\n",
       "      <td>1981.000000</td>\n",
       "      <td>NaN</td>\n",
       "    </tr>\n",
       "    <tr>\n",
       "      <th>25%</th>\n",
       "      <td>NaN</td>\n",
       "      <td>3.920000e+05</td>\n",
       "      <td>NaN</td>\n",
       "      <td>NaN</td>\n",
       "      <td>NaN</td>\n",
       "      <td>28383.000000</td>\n",
       "      <td>2014.000000</td>\n",
       "      <td>NaN</td>\n",
       "    </tr>\n",
       "    <tr>\n",
       "      <th>50%</th>\n",
       "      <td>NaN</td>\n",
       "      <td>5.350290e+05</td>\n",
       "      <td>NaN</td>\n",
       "      <td>NaN</td>\n",
       "      <td>NaN</td>\n",
       "      <td>47000.000000</td>\n",
       "      <td>2016.000000</td>\n",
       "      <td>NaN</td>\n",
       "    </tr>\n",
       "    <tr>\n",
       "      <th>75%</th>\n",
       "      <td>NaN</td>\n",
       "      <td>7.347360e+05</td>\n",
       "      <td>NaN</td>\n",
       "      <td>NaN</td>\n",
       "      <td>NaN</td>\n",
       "      <td>69002.000000</td>\n",
       "      <td>2018.000000</td>\n",
       "      <td>NaN</td>\n",
       "    </tr>\n",
       "    <tr>\n",
       "      <th>max</th>\n",
       "      <td>NaN</td>\n",
       "      <td>8.200000e+06</td>\n",
       "      <td>NaN</td>\n",
       "      <td>NaN</td>\n",
       "      <td>NaN</td>\n",
       "      <td>600000.000000</td>\n",
       "      <td>2021.000000</td>\n",
       "      <td>NaN</td>\n",
       "    </tr>\n",
       "  </tbody>\n",
       "</table>\n",
       "</div>"
      ],
      "text/plain": [
       "               name         price Location Fuel type Transmission  \\\n",
       "count          5169  5.169000e+03     5169      5169         5162   \n",
       "unique         1348           NaN        6         5            5   \n",
       "top     Wagon R VXi           NaN     Pune    Petrol       manual   \n",
       "freq            101           NaN      999      3360         4160   \n",
       "mean            NaN  6.355737e+05      NaN       NaN          NaN   \n",
       "std             NaN  5.048332e+05      NaN       NaN          NaN   \n",
       "min             NaN  1.250000e+04      NaN       NaN          NaN   \n",
       "25%             NaN  3.920000e+05      NaN       NaN          NaN   \n",
       "50%             NaN  5.350290e+05      NaN       NaN          NaN   \n",
       "75%             NaN  7.347360e+05      NaN       NaN          NaN   \n",
       "max             NaN  8.200000e+06      NaN       NaN          NaN   \n",
       "\n",
       "           Kms driven         year Company Name  \n",
       "count     5169.000000  5169.000000         5169  \n",
       "unique            NaN          NaN           29  \n",
       "top               NaN          NaN       Maruti  \n",
       "freq              NaN          NaN         1822  \n",
       "mean     51049.301025  2015.521377          NaN  \n",
       "std      31291.365449     3.018707          NaN  \n",
       "min        586.000000  1981.000000          NaN  \n",
       "25%      28383.000000  2014.000000          NaN  \n",
       "50%      47000.000000  2016.000000          NaN  \n",
       "75%      69002.000000  2018.000000          NaN  \n",
       "max     600000.000000  2021.000000          NaN  "
      ]
     },
     "execution_count": 58,
     "metadata": {},
     "output_type": "execute_result"
    }
   ],
   "source": [
    "df.describe(include='all')"
   ]
  },
  {
   "cell_type": "code",
   "execution_count": 60,
   "id": "8b798474",
   "metadata": {
    "scrolled": true
   },
   "outputs": [
    {
     "name": "stdout",
     "output_type": "stream",
     "text": [
      "Pune         999\n",
      "Chennai      934\n",
      "Delhi        869\n",
      "Hyderabad    836\n",
      "Mumbai       776\n",
      "Bengaluru    755\n",
      "Name: Location, dtype: int64 \n",
      "\n",
      "Petrol               3360\n",
      "Diesel               1741\n",
      "CNG                    55\n",
      "Electric(Battery)       8\n",
      "LPG                     5\n",
      "Name: Fuel type, dtype: int64 \n",
      "\n",
      "manual                 4160\n",
      "automatic               778\n",
      "Amt                     133\n",
      "Cvt                      90\n",
      "automatic - 5 Gears       1\n",
      "Name: Transmission, dtype: int64 \n",
      "\n",
      "120000    46\n",
      "80000     39\n",
      "60000     39\n",
      "70000     37\n",
      "50000     33\n",
      "          ..\n",
      "62239      1\n",
      "64290      1\n",
      "21283      1\n",
      "95124      1\n",
      "14333      1\n",
      "Name: Kms driven, Length: 4124, dtype: int64 \n",
      "\n",
      "2016    766\n",
      "2017    766\n",
      "2018    690\n",
      "2015    612\n",
      "2014    522\n",
      "2019    478\n",
      "2013    352\n",
      "2012    265\n",
      "2020    189\n",
      "2011    177\n",
      "2010    117\n",
      "2008     58\n",
      "2009     53\n",
      "2021     48\n",
      "2007     35\n",
      "2004     10\n",
      "2006     10\n",
      "2005      8\n",
      "2003      4\n",
      "2002      3\n",
      "2001      2\n",
      "1981      2\n",
      "1995      1\n",
      "1998      1\n",
      "Name: year, dtype: int64 \n",
      "\n",
      "Maruti           1822\n",
      "Hyundai          1276\n",
      "Honda             503\n",
      "Mahindra          246\n",
      "Volkswagen        243\n",
      "Ford              230\n",
      "Renault           202\n",
      "Tata              135\n",
      "Toyota            125\n",
      "Skoda             107\n",
      "BMW                44\n",
      "Chevrolet          35\n",
      "Mercedes-Benz      31\n",
      "Nissan             28\n",
      "Audi               26\n",
      "Kia                24\n",
      "Datsun             19\n",
      "Jeep               16\n",
      "Fiat               12\n",
      "Land               12\n",
      "Jaguar              8\n",
      "Volvo               8\n",
      "MG                  4\n",
      "Mini                3\n",
      "Mitsubishi          3\n",
      "Ambassador          2\n",
      "Isuzu               2\n",
      "Porsche             2\n",
      "OpelCorsa           1\n",
      "Name: Company Name, dtype: int64 \n",
      "\n"
     ]
    }
   ],
   "source": [
    "for i in df.columns[2:]:\n",
    "    print(df[i].value_counts(),\"\\n\")"
   ]
  },
  {
   "cell_type": "code",
   "execution_count": 68,
   "id": "a10d42ed",
   "metadata": {},
   "outputs": [],
   "source": [
    "df[\"Transmission\"]=df[\"Transmission\"].fillna(df[\"Transmission\"].mode()[0])"
   ]
  },
  {
   "cell_type": "code",
   "execution_count": 69,
   "id": "39cb1f7b",
   "metadata": {},
   "outputs": [
    {
     "data": {
      "text/plain": [
       "0"
      ]
     },
     "execution_count": 69,
     "metadata": {},
     "output_type": "execute_result"
    }
   ],
   "source": [
    "df[\"Transmission\"].isnull().sum()"
   ]
  },
  {
   "cell_type": "code",
   "execution_count": 109,
   "id": "4d84210a",
   "metadata": {},
   "outputs": [],
   "source": [
    "for i in range(len(df[\"Company Name\"])):\n",
    "    df[\"Company Name\"][i]=df[\"Company Name\"][i].replace(\"Land\",\"Land Rover\")"
   ]
  },
  {
   "cell_type": "code",
   "execution_count": null,
   "id": "149dd39c",
   "metadata": {},
   "outputs": [],
   "source": []
  },
  {
   "cell_type": "markdown",
   "id": "2bcdc9f4",
   "metadata": {},
   "source": [
    "# EDA:"
   ]
  },
  {
   "cell_type": "code",
   "execution_count": 71,
   "id": "b1278802",
   "metadata": {},
   "outputs": [
    {
     "data": {
      "text/plain": [
       "name            object\n",
       "price            int32\n",
       "Location        object\n",
       "Fuel type       object\n",
       "Transmission    object\n",
       "Kms driven       int32\n",
       "year             int64\n",
       "Company Name    object\n",
       "dtype: object"
      ]
     },
     "execution_count": 71,
     "metadata": {},
     "output_type": "execute_result"
    }
   ],
   "source": [
    "df.dtypes"
   ]
  },
  {
   "cell_type": "code",
   "execution_count": 96,
   "id": "b63d5cd5",
   "metadata": {},
   "outputs": [],
   "source": [
    "num_feat=[\"price\",\"Kms driven\"]\n",
    "cat_feat=[\"name\",\"Location\",\"year\",\"Fuel type\",\"Transmission\",\"Company Name\"]"
   ]
  },
  {
   "cell_type": "code",
   "execution_count": 78,
   "id": "c2fdd901",
   "metadata": {
    "scrolled": false
   },
   "outputs": [
    {
     "data": {
      "image/png": "[encoded data removed]",
      "text/plain": [
       "<Figure size 720x360 with 1 Axes>"
      ]
     },
     "metadata": {
      "needs_background": "light"
     },
     "output_type": "display_data"
    },
    {
     "data": {
      "image/png": "[encoded data removed]",
      "text/plain": [
       "<Figure size 720x360 with 1 Axes>"
      ]
     },
     "metadata": {
      "needs_background": "light"
     },
     "output_type": "display_data"
    }
   ],
   "source": [
    "for i in num_feat:\n",
    "    plt.figure(figsize=(10,5))\n",
    "    sns.histplot(df[i],palette=\"viridis\")\n",
    "    plt.title(\"Histogram\")\n",
    "    plt.show()"
   ]
  },
  {
   "cell_type": "markdown",
   "id": "a4250fdc",
   "metadata": {},
   "source": [
    "Observations:\n",
    "- Majority of the price is centered around 500,000 \n",
    "- Maximum distance driven by cars hovers around 45000 km"
   ]
  },
  {
   "cell_type": "code",
   "execution_count": 99,
   "id": "97d2eaf1",
   "metadata": {
    "scrolled": false
   },
   "outputs": [
    {
     "data": {
      "image/png": "[encoded data removed]",
      "text/plain": [
       "<Figure size 864x360 with 1 Axes>"
      ]
     },
     "metadata": {
      "needs_background": "light"
     },
     "output_type": "display_data"
    },
    {
     "data": {
      "image/png": "[encoded data removed]",
      "text/plain": [
       "<Figure size 864x360 with 1 Axes>"
      ]
     },
     "metadata": {
      "needs_background": "light"
     },
     "output_type": "display_data"
    },
    {
     "data": {
      "image/png": "[encoded data removed]",
      "text/plain": [
       "<Figure size 864x360 with 1 Axes>"
      ]
     },
     "metadata": {
      "needs_background": "light"
     },
     "output_type": "display_data"
    },
    {
     "data": {
      "image/png": "[encoded data removed]",
      "text/plain": [
       "<Figure size 864x360 with 1 Axes>"
      ]
     },
     "metadata": {
      "needs_background": "light"
     },
     "output_type": "display_data"
    },
    {
     "data": {
      "image/png": "[encoded data removed]",
      "text/plain": [
       "<Figure size 864x360 with 1 Axes>"
      ]
     },
     "metadata": {
      "needs_background": "light"
     },
     "output_type": "display_data"
    }
   ],
   "source": [
    "for i in cat_feat[1:]:\n",
    "    plt.figure(figsize=(12,5))\n",
    "    sns.countplot(df[i])\n",
    "    plt.xticks(rotation=90)\n",
    "    plt.show()"
   ]
  },
  {
   "cell_type": "markdown",
   "id": "737527c5",
   "metadata": {},
   "source": [
    "Observations:\n",
    "- Out of the 5k cars, Maruti suzuki and Hyundai are the most used car companies which has been put up for sale, indicating high penetration in the indian market compared to its rivals.\n",
    "- Manual Transmission is abundant as the cars tend to be cheaper which makes sense for the indian market\n",
    "- We have almost equal number of cars available from all the 5 major cities.\n",
    "- Petrol cars have the highest quantity to be listed for sale, as petrol have an extra benefit compared to Diesel - it can be converted to run on CNG, which is almost 50% cheaper than petrol and diesel and cleaner for the environment.\n",
    "- Most cars are relatively new with majority belonging to 2014 to 2019 "
   ]
  },
  {
   "cell_type": "code",
   "execution_count": 113,
   "id": "4a3ec664",
   "metadata": {},
   "outputs": [
    {
     "data": {
      "image/png": "[encoded data removed]",
      "text/plain": [
       "<Figure size 1296x432 with 1 Axes>"
      ]
     },
     "metadata": {
      "needs_background": "light"
     },
     "output_type": "display_data"
    }
   ],
   "source": [
    "sns.catplot(y = \"price\", x = \"Company Name\", data = df.sort_values(\"price\", ascending = False), kind=\"boxen\", height = 6, aspect = 3)\n",
    "plt.xticks(rotation=90)\n",
    "plt.show()"
   ]
  },
  {
   "cell_type": "markdown",
   "id": "e7459634",
   "metadata": {},
   "source": [
    "Observation:\n",
    "- We can see majority of the companies have outlier prices.\n",
    "- Luxurious brands will logically be expensive than commercial car brans, like Porsche is the one of the most expensive luxury car company in the world.\n"
   ]
  },
  {
   "cell_type": "code",
   "execution_count": 138,
   "id": "8640e83b",
   "metadata": {},
   "outputs": [
    {
     "data": {
      "image/png": "[encoded data removed]",
      "text/plain": [
       "<Figure size 1440x720 with 1 Axes>"
      ]
     },
     "metadata": {
      "needs_background": "light"
     },
     "output_type": "display_data"
    }
   ],
   "source": [
    "pd.crosstab(df['Location'],df['Company Name']).plot(kind='barh', stacked=True,figsize=(20,10),fontsize=15,colormap=\"tab20\")\n",
    "plt.show()"
   ]
  },
  {
   "cell_type": "markdown",
   "id": "e4908dcf",
   "metadata": {},
   "source": [
    "Observation:\n",
    "- Chennai has more hyundai's listed than Maruti's indicating the famous car company in the city.\n",
    "- Delhi has the largest number of Maruti's listed\n",
    "- Chennai also tops the list in terms of toyota's listed."
   ]
  },
  {
   "cell_type": "code",
   "execution_count": 143,
   "id": "b7f35f22",
   "metadata": {},
   "outputs": [
    {
     "data": {
      "image/png": "[encoded data removed]",
      "text/plain": [
       "<Figure size 864x288 with 1 Axes>"
      ]
     },
     "metadata": {
      "needs_background": "light"
     },
     "output_type": "display_data"
    }
   ],
   "source": [
    "sns.catplot(y = \"price\", x = \"Location\", data = df.sort_values(\"price\", ascending = True), kind=\"boxen\", height = 4, aspect = 3)\n",
    "plt.show()"
   ]
  },
  {
   "cell_type": "markdown",
   "id": "601bd5d8",
   "metadata": {},
   "source": [
    "observation:\n",
    "- Mumbai, Delhi and Bengaluru have only inexpensive cars listed whereas the other 3 definitely have a lot of expensive cars listed as well.\n",
    "- All the cities have almost equal average listed price."
   ]
  },
  {
   "cell_type": "code",
   "execution_count": 145,
   "id": "d691a55e",
   "metadata": {},
   "outputs": [
    {
     "data": {
      "text/plain": [
       "Index(['name', 'price', 'Location', 'Fuel type', 'Transmission', 'Kms driven',\n",
       "       'year', 'Company Name'],\n",
       "      dtype='object')"
      ]
     },
     "execution_count": 145,
     "metadata": {},
     "output_type": "execute_result"
    }
   ],
   "source": [
    "df.columns"
   ]
  },
  {
   "cell_type": "code",
   "execution_count": 153,
   "id": "8fa39446",
   "metadata": {},
   "outputs": [
    {
     "data": {
      "text/plain": [
       "<AxesSubplot:xlabel='Kms driven', ylabel='price'>"
      ]
     },
     "execution_count": 153,
     "metadata": {},
     "output_type": "execute_result"
    },
    {
     "data": {
      "image/png": "[encoded data removed]",
      "text/plain": [
       "<Figure size 432x288 with 1 Axes>"
      ]
     },
     "metadata": {
      "needs_background": "light"
     },
     "output_type": "display_data"
    }
   ],
   "source": [
    "df.plot.scatter(y=\"price\",x=\"Kms driven\")"
   ]
  },
  {
   "cell_type": "markdown",
   "id": "0df2f8fc",
   "metadata": {},
   "source": [
    "Observation:\n",
    "- Lesser driven vehicles will obviously cost more which is what the graph depicts."
   ]
  },
  {
   "cell_type": "code",
   "execution_count": 163,
   "id": "0b6f5cde",
   "metadata": {},
   "outputs": [
    {
     "data": {
      "text/plain": [
       "<seaborn.axisgrid.FacetGrid at 0x18dd045fe80>"
      ]
     },
     "execution_count": 163,
     "metadata": {},
     "output_type": "execute_result"
    },
    {
     "data": {
      "image/png": "[encoded data removed]",
      "text/plain": [
       "<Figure size 360x360 with 1 Axes>"
      ]
     },
     "metadata": {
      "needs_background": "light"
     },
     "output_type": "display_data"
    }
   ],
   "source": [
    "sns.catplot(kind=\"point\",x=\"price\",y=\"Transmission\",data=df)"
   ]
  },
  {
   "cell_type": "markdown",
   "id": "f626be5f",
   "metadata": {},
   "source": [
    "observation:\n",
    "- Automatic cars are the most expensive with CVT coming in at second."
   ]
  },
  {
   "cell_type": "code",
   "execution_count": 169,
   "id": "1f0367ce",
   "metadata": {},
   "outputs": [
    {
     "data": {
      "text/plain": [
       "<seaborn.axisgrid.FacetGrid at 0x18dd4376b80>"
      ]
     },
     "execution_count": 169,
     "metadata": {},
     "output_type": "execute_result"
    },
    {
     "data": {
      "image/png": "[encoded data removed]",
      "text/plain": [
       "<Figure size 495.125x360 with 1 Axes>"
      ]
     },
     "metadata": {
      "needs_background": "light"
     },
     "output_type": "display_data"
    }
   ],
   "source": [
    "sns.catplot(kind=\"bar\",y=\"price\",x=\"Fuel type\",hue=\"Transmission\",data=df)"
   ]
  },
  {
   "cell_type": "markdown",
   "id": "2c820a19",
   "metadata": {},
   "source": [
    "Observation:\n",
    "- Manual cars with LPG are the cheapest combo available\n",
    "- Automatic and Diesel is the highest priced option listed\n",
    "- Electric cars have only manual or automatic transmission\n",
    "- Cvt transmission(manual with no clutch pedal)is the second highest in terms of price in Diesel variant, but cars having Petrol as their fuel type, it's the most expensive type of transmission.\n"
   ]
  },
  {
   "cell_type": "markdown",
   "id": "41b33bab",
   "metadata": {},
   "source": [
    "## Data Transformation"
   ]
  },
  {
   "cell_type": "code",
   "execution_count": 172,
   "id": "7a16ad3c",
   "metadata": {},
   "outputs": [],
   "source": [
    "num_df=df[num_feat]"
   ]
  },
  {
   "cell_type": "markdown",
   "id": "0a43725f",
   "metadata": {},
   "source": [
    "### Checking Outliers:"
   ]
  },
  {
   "cell_type": "code",
   "execution_count": 173,
   "id": "eaad4f6c",
   "metadata": {},
   "outputs": [
    {
     "data": {
      "text/plain": [
       "(5169, 2)"
      ]
     },
     "execution_count": 173,
     "metadata": {},
     "output_type": "execute_result"
    }
   ],
   "source": [
    "z = np.abs(zscore(num_df))\n",
    "z.shape"
   ]
  },
  {
   "cell_type": "code",
   "execution_count": 174,
   "id": "55672d4b",
   "metadata": {},
   "outputs": [
    {
     "name": "stdout",
     "output_type": "stream",
     "text": [
      "(array([3183, 3202, 3206, 3222, 3226, 3231, 3247, 3248, 3250, 3251, 3263,\n",
      "       3266, 3269, 3275, 3278, 3279, 3290, 3293, 3315, 3317, 3326, 3338,\n",
      "       3339, 3366, 3400, 3416, 3428, 3429, 3430, 3431, 3432, 3433, 3435,\n",
      "       3463, 3472, 3565, 3566, 3570, 3577, 3610, 3622, 3636, 3637, 3659,\n",
      "       3670, 3675, 3692, 3701, 3701, 3726, 3727, 3728, 3779, 3784, 3785,\n",
      "       3807, 3827, 4059, 4083, 4149, 4150, 4158, 4159, 4170, 4180, 4182,\n",
      "       4190, 4194, 4197, 4198, 4207, 4208, 4211, 4224, 4227, 4230, 4250,\n",
      "       4275, 4286, 4298, 4300, 4303, 4305, 4312, 4314, 4321, 4333, 4334,\n",
      "       4347, 4370, 4386, 4390, 4401, 4402, 4403, 4407, 4410, 4421, 4422,\n",
      "       4423, 4427, 4448, 4451, 4456, 4588, 4589, 4604, 4611, 4649, 4656,\n",
      "       4662, 4672, 4677, 4679, 4684, 4693, 4699, 4700, 4702, 4710, 4734,\n",
      "       4737, 4764, 4765, 4780, 4800, 4811, 4824, 4834, 4860, 4861, 4875,\n",
      "       4889, 4891, 4974, 4975, 4976, 5003, 5004, 5027, 5041, 5045, 5072,\n",
      "       5081, 5092, 5123, 5127, 5130], dtype=int64), array([1, 1, 1, 1, 1, 1, 1, 1, 0, 1, 0, 1, 0, 1, 1, 1, 1, 0, 0, 0, 0, 0,\n",
      "       0, 1, 0, 0, 0, 0, 0, 0, 0, 0, 0, 0, 0, 0, 0, 0, 0, 0, 0, 0, 0, 0,\n",
      "       0, 0, 1, 0, 1, 0, 0, 0, 0, 1, 1, 0, 0, 1, 0, 1, 1, 1, 1, 1, 1, 1,\n",
      "       1, 1, 1, 1, 1, 1, 1, 1, 0, 0, 0, 1, 0, 0, 0, 0, 0, 0, 0, 1, 0, 0,\n",
      "       1, 0, 1, 0, 1, 0, 0, 0, 0, 1, 0, 0, 0, 1, 0, 0, 0, 0, 0, 0, 1, 1,\n",
      "       1, 1, 1, 1, 1, 1, 1, 1, 1, 1, 1, 1, 1, 1, 1, 0, 0, 0, 0, 0, 0, 0,\n",
      "       0, 1, 0, 0, 0, 0, 0, 1, 0, 1, 0, 0, 0, 0, 0, 1], dtype=int64))\n"
     ]
    }
   ],
   "source": [
    "threshold = 3\n",
    "print(np.where(z>3))"
   ]
  },
  {
   "cell_type": "code",
   "execution_count": 176,
   "id": "0e5667f2",
   "metadata": {},
   "outputs": [],
   "source": [
    "df_new=df[(z<3).all(axis=1)]"
   ]
  },
  {
   "cell_type": "code",
   "execution_count": 178,
   "id": "8d09a482",
   "metadata": {},
   "outputs": [
    {
     "data": {
      "text/plain": [
       "((5022, 8), (5169, 8))"
      ]
     },
     "execution_count": 178,
     "metadata": {},
     "output_type": "execute_result"
    }
   ],
   "source": [
    "df_new.shape, df.shape"
   ]
  },
  {
   "cell_type": "code",
   "execution_count": 180,
   "id": "e4c57920",
   "metadata": {},
   "outputs": [
    {
     "data": {
      "text/plain": [
       "2.8438769587928032"
      ]
     },
     "execution_count": 180,
     "metadata": {},
     "output_type": "execute_result"
    }
   ],
   "source": [
    "#### Data Loss %:\n",
    "((5169-5022)/5169) *100"
   ]
  },
  {
   "cell_type": "markdown",
   "id": "36687bcc",
   "metadata": {},
   "source": [
    "- Roughly 3% data is lost which is perfectly within standard limit"
   ]
  },
  {
   "cell_type": "markdown",
   "id": "f7aacd5c",
   "metadata": {},
   "source": [
    "### Checking Skewness"
   ]
  },
  {
   "cell_type": "code",
   "execution_count": 182,
   "id": "62ecd4f5",
   "metadata": {},
   "outputs": [
    {
     "data": {
      "text/plain": [
       "0.519669211041536"
      ]
     },
     "execution_count": 182,
     "metadata": {},
     "output_type": "execute_result"
    }
   ],
   "source": [
    "df_new[\"Kms driven\"].skew()"
   ]
  },
  {
   "cell_type": "markdown",
   "id": "bd6cdb7b",
   "metadata": {},
   "source": [
    "Skewness is absent in the data.\n",
    "few points though:\n",
    "- Year is a categorical variable, even though it's of an int datatype\n",
    "- It's generally recommended to not perform transformation on the target column as it can be misleading for the model. Only outlier removal is done on the target, scaling and skewness reduction is not performed."
   ]
  },
  {
   "cell_type": "code",
   "execution_count": 184,
   "id": "4a6b8c1a",
   "metadata": {},
   "outputs": [
    {
     "data": {
      "text/plain": [
       "<AxesSubplot:xlabel='Kms driven', ylabel='Density'>"
      ]
     },
     "execution_count": 184,
     "metadata": {},
     "output_type": "execute_result"
    },
    {
     "data": {
      "image/png": "[encoded data removed]",
      "text/plain": [
       "<Figure size 432x288 with 1 Axes>"
      ]
     },
     "metadata": {
      "needs_background": "light"
     },
     "output_type": "display_data"
    }
   ],
   "source": [
    "sns.kdeplot(df_new[\"Kms driven\"],color=\"orange\")"
   ]
  },
  {
   "cell_type": "code",
   "execution_count": null,
   "id": "39ebb637",
   "metadata": {},
   "outputs": [],
   "source": [
    "# almost a normal distribution"
   ]
  },
  {
   "cell_type": "markdown",
   "id": "29c39c2c",
   "metadata": {},
   "source": [
    "## Encoding"
   ]
  },
  {
   "cell_type": "code",
   "execution_count": 192,
   "id": "ca64fbe9",
   "metadata": {},
   "outputs": [],
   "source": [
    "cat_feat.remove('year')"
   ]
  },
  {
   "cell_type": "code",
   "execution_count": 193,
   "id": "96940138",
   "metadata": {},
   "outputs": [
    {
     "data": {
      "text/plain": [
       "['name', 'Location', 'Fuel type', 'Transmission', 'Company Name']"
      ]
     },
     "execution_count": 193,
     "metadata": {},
     "output_type": "execute_result"
    }
   ],
   "source": [
    "cat_feat"
   ]
  },
  {
   "cell_type": "code",
   "execution_count": 194,
   "id": "b2389315",
   "metadata": {},
   "outputs": [],
   "source": [
    "le=LabelEncoder()\n",
    "for row in cat_feat:\n",
    "    df_new[row] = le.fit_transform(df_new[row])    "
   ]
  },
  {
   "cell_type": "code",
   "execution_count": 195,
   "id": "dc29e994",
   "metadata": {},
   "outputs": [
    {
     "data": {
      "text/html": [
       "<div>\n",
       "<style scoped>\n",
       "    .dataframe tbody tr th:only-of-type {\n",
       "        vertical-align: middle;\n",
       "    }\n",
       "\n",
       "    .dataframe tbody tr th {\n",
       "        vertical-align: top;\n",
       "    }\n",
       "\n",
       "    .dataframe thead th {\n",
       "        text-align: right;\n",
       "    }\n",
       "</style>\n",
       "<table border=\"1\" class=\"dataframe\">\n",
       "  <thead>\n",
       "    <tr style=\"text-align: right;\">\n",
       "      <th></th>\n",
       "      <th>name</th>\n",
       "      <th>price</th>\n",
       "      <th>Location</th>\n",
       "      <th>Fuel type</th>\n",
       "      <th>Transmission</th>\n",
       "      <th>Kms driven</th>\n",
       "      <th>year</th>\n",
       "      <th>Company Name</th>\n",
       "    </tr>\n",
       "  </thead>\n",
       "  <tbody>\n",
       "    <tr>\n",
       "      <th>1046</th>\n",
       "      <td>91</td>\n",
       "      <td>638178</td>\n",
       "      <td>4</td>\n",
       "      <td>1</td>\n",
       "      <td>4</td>\n",
       "      <td>67098</td>\n",
       "      <td>2018</td>\n",
       "      <td>26</td>\n",
       "    </tr>\n",
       "    <tr>\n",
       "      <th>2239</th>\n",
       "      <td>145</td>\n",
       "      <td>401808</td>\n",
       "      <td>5</td>\n",
       "      <td>4</td>\n",
       "      <td>4</td>\n",
       "      <td>53964</td>\n",
       "      <td>2015</td>\n",
       "      <td>7</td>\n",
       "    </tr>\n",
       "    <tr>\n",
       "      <th>941</th>\n",
       "      <td>360</td>\n",
       "      <td>475719</td>\n",
       "      <td>4</td>\n",
       "      <td>1</td>\n",
       "      <td>4</td>\n",
       "      <td>33007</td>\n",
       "      <td>2014</td>\n",
       "      <td>6</td>\n",
       "    </tr>\n",
       "    <tr>\n",
       "      <th>472</th>\n",
       "      <td>989</td>\n",
       "      <td>703339</td>\n",
       "      <td>2</td>\n",
       "      <td>1</td>\n",
       "      <td>4</td>\n",
       "      <td>76972</td>\n",
       "      <td>2017</td>\n",
       "      <td>15</td>\n",
       "    </tr>\n",
       "    <tr>\n",
       "      <th>426</th>\n",
       "      <td>426</td>\n",
       "      <td>760999</td>\n",
       "      <td>2</td>\n",
       "      <td>1</td>\n",
       "      <td>4</td>\n",
       "      <td>47382</td>\n",
       "      <td>2017</td>\n",
       "      <td>16</td>\n",
       "    </tr>\n",
       "    <tr>\n",
       "      <th>4474</th>\n",
       "      <td>155</td>\n",
       "      <td>991000</td>\n",
       "      <td>5</td>\n",
       "      <td>4</td>\n",
       "      <td>2</td>\n",
       "      <td>87126</td>\n",
       "      <td>2015</td>\n",
       "      <td>7</td>\n",
       "    </tr>\n",
       "    <tr>\n",
       "      <th>4236</th>\n",
       "      <td>245</td>\n",
       "      <td>685000</td>\n",
       "      <td>3</td>\n",
       "      <td>1</td>\n",
       "      <td>4</td>\n",
       "      <td>72911</td>\n",
       "      <td>2014</td>\n",
       "      <td>7</td>\n",
       "    </tr>\n",
       "  </tbody>\n",
       "</table>\n",
       "</div>"
      ],
      "text/plain": [
       "      name   price  Location  Fuel type  Transmission  Kms driven  year  \\\n",
       "1046    91  638178         4          1             4       67098  2018   \n",
       "2239   145  401808         5          4             4       53964  2015   \n",
       "941    360  475719         4          1             4       33007  2014   \n",
       "472    989  703339         2          1             4       76972  2017   \n",
       "426    426  760999         2          1             4       47382  2017   \n",
       "4474   155  991000         5          4             2       87126  2015   \n",
       "4236   245  685000         3          1             4       72911  2014   \n",
       "\n",
       "      Company Name  \n",
       "1046            26  \n",
       "2239             7  \n",
       "941              6  \n",
       "472             15  \n",
       "426             16  \n",
       "4474             7  \n",
       "4236             7  "
      ]
     },
     "execution_count": 195,
     "metadata": {},
     "output_type": "execute_result"
    }
   ],
   "source": [
    "df_new.sample(7)"
   ]
  },
  {
   "cell_type": "markdown",
   "id": "7cae3603",
   "metadata": {},
   "source": [
    "## Splitting dataset:"
   ]
  },
  {
   "cell_type": "code",
   "execution_count": 196,
   "id": "e19593ae",
   "metadata": {},
   "outputs": [],
   "source": [
    "x=df_new.drop(\"price\",axis=1)\n",
    "y=df_new[\"price\"]"
   ]
  },
  {
   "cell_type": "markdown",
   "id": "adeecc18",
   "metadata": {},
   "source": [
    "### Scaling:"
   ]
  },
  {
   "cell_type": "code",
   "execution_count": 197,
   "id": "47a5c4bf",
   "metadata": {},
   "outputs": [],
   "source": [
    "sc=StandardScaler()\n",
    "xs=sc.fit_transform(x)"
   ]
  },
  {
   "cell_type": "code",
   "execution_count": 198,
   "id": "0b36d690",
   "metadata": {},
   "outputs": [
    {
     "data": {
      "text/plain": [
       "<AxesSubplot:>"
      ]
     },
     "execution_count": 198,
     "metadata": {},
     "output_type": "execute_result"
    },
    {
     "data": {
      "image/png": "[encoded data removed]",
      "text/plain": [
       "<Figure size 1080x720 with 2 Axes>"
      ]
     },
     "metadata": {
      "needs_background": "light"
     },
     "output_type": "display_data"
    }
   ],
   "source": [
    "plt.figure(figsize=(15,10))\n",
    "sns.heatmap(df_new.corr(),annot=True,cmap=\"Spectral\")"
   ]
  },
  {
   "cell_type": "markdown",
   "id": "1971ed2a",
   "metadata": {},
   "source": [
    "- No multicollinearity can be observed as the values are below 0.6"
   ]
  },
  {
   "cell_type": "markdown",
   "id": "0d815887",
   "metadata": {},
   "source": [
    "# Models:"
   ]
  },
  {
   "cell_type": "code",
   "execution_count": 208,
   "id": "5901f215",
   "metadata": {
    "scrolled": true
   },
   "outputs": [
    {
     "name": "stdout",
     "output_type": "stream",
     "text": [
      "At random state 145,the training accuracy is:- 0.3680582979842537\n",
      "At random state 145,the testing accuracy is:- 0.36778183692884825\n",
      "\n",
      "\n",
      "At random state 181,the training accuracy is:- 0.3675598612825426\n",
      "At random state 181,the testing accuracy is:- 0.3682177570172379\n",
      "\n",
      "\n",
      "At random state 215,the training accuracy is:- 0.36838974630483223\n",
      "At random state 215,the testing accuracy is:- 0.36822902075258834\n",
      "\n",
      "\n",
      "At random state 266,the training accuracy is:- 0.3684649094133172\n",
      "At random state 266,the testing accuracy is:- 0.3681967845205455\n",
      "\n",
      "\n",
      "At random state 302,the training accuracy is:- 0.36836694347719245\n",
      "At random state 302,the testing accuracy is:- 0.3680398158479107\n",
      "\n",
      "\n",
      "At random state 343,the training accuracy is:- 0.3683163778417977\n",
      "At random state 343,the testing accuracy is:- 0.36821172972425364\n",
      "\n",
      "\n",
      "At random state 367,the training accuracy is:- 0.367926794389252\n",
      "At random state 367,the testing accuracy is:- 0.36794724132504564\n",
      "\n",
      "\n",
      "At random state 372,the training accuracy is:- 0.36740835416838025\n",
      "At random state 372,the testing accuracy is:- 0.36721725233648306\n",
      "\n",
      "\n",
      "At random state 420,the training accuracy is:- 0.36796316399405626\n",
      "At random state 420,the testing accuracy is:- 0.36757510442373076\n",
      "\n",
      "\n",
      "At random state 453,the training accuracy is:- 0.3684474994101292\n",
      "At random state 453,the testing accuracy is:- 0.3684512108487087\n",
      "\n",
      "\n",
      "At random state 491,the training accuracy is:- 0.36822588015119995\n",
      "At random state 491,the testing accuracy is:- 0.3684506895972257\n",
      "\n",
      "\n",
      "At random state 534,the training accuracy is:- 0.36834624024877516\n",
      "At random state 534,the testing accuracy is:- 0.36790741971285146\n",
      "\n",
      "\n",
      "At random state 598,the training accuracy is:- 0.3680481687752828\n",
      "At random state 598,the testing accuracy is:- 0.36822232781230946\n",
      "\n",
      "\n",
      "At random state 645,the training accuracy is:- 0.36782001855143454\n",
      "At random state 645,the testing accuracy is:- 0.36754121061119316\n",
      "\n",
      "\n",
      "At random state 673,the training accuracy is:- 0.36814421835649724\n",
      "At random state 673,the testing accuracy is:- 0.3682868927649726\n",
      "\n",
      "\n",
      "At random state 705,the training accuracy is:- 0.368274372764827\n",
      "At random state 705,the testing accuracy is:- 0.3677441728730777\n",
      "\n",
      "\n",
      "At random state 903,the training accuracy is:- 0.3676158066676719\n",
      "At random state 903,the testing accuracy is:- 0.367862057839464\n",
      "\n",
      "\n",
      "At random state 954,the training accuracy is:- 0.3681408401402545\n",
      "At random state 954,the testing accuracy is:- 0.3675185195554683\n",
      "\n",
      "\n"
     ]
    }
   ],
   "source": [
    "for i in range(100,1000):\n",
    "    X_train,X_test,y_train,y_test=train_test_split(xs,y,test_size=0.2,random_state=i)\n",
    "    lr=LinearRegression()\n",
    "    lr.fit(X_train,y_train)\n",
    "    pred_train=lr.predict(X_train)\n",
    "    pred_test=lr.predict(X_test)\n",
    "    if round(r2_score(y_train,pred_train)*100,1)==round(r2_score(y_test,pred_test)*100,1):\n",
    "        print(f\"At random state {i},the training accuracy is:- {r2_score(y_train,pred_train)}\")\n",
    "        print(f\"At random state {i},the testing accuracy is:- {r2_score(y_test,pred_test)}\")\n",
    "        print(\"\\n\")"
   ]
  },
  {
   "cell_type": "code",
   "execution_count": 216,
   "id": "17202404",
   "metadata": {},
   "outputs": [],
   "source": [
    "x_train, x_test,y_train, y_test=train_test_split(xs,y,test_size=.25,random_state=343)"
   ]
  },
  {
   "cell_type": "markdown",
   "id": "adb11858",
   "metadata": {},
   "source": [
    "## Model 1: Lasso Regression"
   ]
  },
  {
   "cell_type": "code",
   "execution_count": 217,
   "id": "67da2ce4",
   "metadata": {},
   "outputs": [
    {
     "name": "stdout",
     "output_type": "stream",
     "text": [
      "{'alpha': 0.01, 'random_state': 100}\n"
     ]
    }
   ],
   "source": [
    "from sklearn.linear_model import Lasso\n",
    "\n",
    "parameters = {'alpha':[.01, .1, 1, 10,100,1000],\n",
    "              'random_state':list(range(300,400))}\n",
    "ls = Lasso()\n",
    "clf = GridSearchCV(ls,parameters)\n",
    "clf.fit(x_train,y_train)\n",
    "\n",
    "print(clf.best_params_)"
   ]
  },
  {
   "cell_type": "code",
   "execution_count": 229,
   "id": "2c825a58",
   "metadata": {},
   "outputs": [],
   "source": [
    "ls = Lasso(alpha=0.01,random_state=100)\n",
    "ls.fit(x_train,y_train)\n",
    "ls.score(x_train,y_train)\n",
    "pred_ls = ls.predict(x_test)"
   ]
  },
  {
   "cell_type": "code",
   "execution_count": 230,
   "id": "66c2403c",
   "metadata": {
    "scrolled": true
   },
   "outputs": [
    {
     "name": "stdout",
     "output_type": "stream",
     "text": [
      "At cv=  2\n",
      "Cross Val score :  22.174533772985487\n",
      "r2 score is :  36.42174688067021\n",
      "\n",
      "\n",
      "At cv=  3\n",
      "Cross Val score :  26.302419624055112\n",
      "r2 score is :  36.42174688067021\n",
      "\n",
      "\n",
      "At cv=  4\n",
      "Cross Val score :  27.005029200948314\n",
      "r2 score is :  36.42174688067021\n",
      "\n",
      "\n",
      "At cv=  5\n",
      "Cross Val score :  28.391651540907368\n",
      "r2 score is :  36.42174688067021\n",
      "\n",
      "\n",
      "At cv=  6\n",
      "Cross Val score :  29.117260562646347\n",
      "r2 score is :  36.42174688067021\n",
      "\n",
      "\n",
      "At cv=  7\n",
      "Cross Val score :  30.41682045451317\n",
      "r2 score is :  36.42174688067021\n",
      "\n",
      "\n",
      "At cv=  8\n",
      "Cross Val score :  29.827313453428143\n",
      "r2 score is :  36.42174688067021\n",
      "\n",
      "\n",
      "At cv=  9\n",
      "Cross Val score :  30.413289823790336\n",
      "r2 score is :  36.42174688067021\n",
      "\n",
      "\n"
     ]
    }
   ],
   "source": [
    "lss = r2_score(y_test,pred_ls)\n",
    "\n",
    "for k in range(2,10):\n",
    "    lsscore=cross_val_score(ls,xs,y,cv=k)\n",
    "    lrcv=lsscore.mean()\n",
    "    print(\"At cv= \",k)\n",
    "    print(\"Cross Val score : \",lrcv*100)\n",
    "    print(\"r2 score is : \",lss*100)\n",
    "    print(\"\\n\")"
   ]
  },
  {
   "cell_type": "markdown",
   "id": "45f95ffb",
   "metadata": {},
   "source": [
    "At cv=  7\n",
    "- Cross Val score :  30.416660563742642\n",
    "- r2 score is :  36.42172238391035"
   ]
  },
  {
   "cell_type": "code",
   "execution_count": 224,
   "id": "c15733bc",
   "metadata": {},
   "outputs": [
    {
     "name": "stdout",
     "output_type": "stream",
     "text": [
      "MAE: 164343.86474122625\n",
      "MSE: 53627530571.68836\n",
      "RMSE: 231576.187402091\n"
     ]
    }
   ],
   "source": [
    "print('MAE:', metrics.mean_absolute_error(y_test, pred_ls))\n",
    "print('MSE:', metrics.mean_squared_error(y_test, pred_ls))\n",
    "print('RMSE:', np.sqrt(metrics.mean_squared_error(y_test, pred_ls)))"
   ]
  },
  {
   "cell_type": "code",
   "execution_count": 225,
   "id": "7dc6206b",
   "metadata": {},
   "outputs": [
    {
     "data": {
      "image/png": "[encoded data removed]",
      "text/plain": [
       "<Figure size 432x288 with 1 Axes>"
      ]
     },
     "metadata": {
      "needs_background": "light"
     },
     "output_type": "display_data"
    }
   ],
   "source": [
    "plt.figure(figsize=(6,4))\n",
    "plt.scatter(x=y_test, y=pred_ls, color='r')\n",
    "plt.plot(y_test,y_test, color='b')\n",
    "plt.xlabel('Actual ',fontsize=14)\n",
    "plt.ylabel('Predicted ',fontsize=14)\n",
    "plt.title('Lasso Regression',fontsize=18)\n",
    "plt.show()"
   ]
  },
  {
   "cell_type": "markdown",
   "id": "344942bb",
   "metadata": {},
   "source": [
    "## Model 2: Decision Tree Regressor"
   ]
  },
  {
   "cell_type": "code",
   "execution_count": 227,
   "id": "e5ab2401",
   "metadata": {},
   "outputs": [],
   "source": [
    "dtr = DecisionTreeRegressor(criterion='friedman_mse', \n",
    "                            max_depth= 8, \n",
    "                            max_leaf_nodes= 15, \n",
    "                            min_samples_leaf= 100, min_samples_split= 10)\n",
    "dtr.fit(x_train, y_train)\n",
    "pred_dtr= dtr.predict(x_test)"
   ]
  },
  {
   "cell_type": "code",
   "execution_count": 228,
   "id": "291939d9",
   "metadata": {
    "scrolled": true
   },
   "outputs": [
    {
     "name": "stdout",
     "output_type": "stream",
     "text": [
      "At cv=  2\n",
      "Cross Val score :  33.26747694199149\n",
      "r2 score is :  66.91602137576673\n",
      "\n",
      "\n",
      "At cv=  3\n",
      "Cross Val score :  37.676702804324954\n",
      "r2 score is :  66.91602137576673\n",
      "\n",
      "\n",
      "At cv=  4\n",
      "Cross Val score :  50.29419225976759\n",
      "r2 score is :  66.91602137576673\n",
      "\n",
      "\n",
      "At cv=  5\n",
      "Cross Val score :  50.478955500849054\n",
      "r2 score is :  66.91602137576673\n",
      "\n",
      "\n",
      "At cv=  6\n",
      "Cross Val score :  57.107691100804125\n",
      "r2 score is :  66.91602137576673\n",
      "\n",
      "\n",
      "At cv=  7\n",
      "Cross Val score :  56.80788526432089\n",
      "r2 score is :  66.91602137576673\n",
      "\n",
      "\n",
      "At cv=  8\n",
      "Cross Val score :  53.00862728420284\n",
      "r2 score is :  66.91602137576673\n",
      "\n",
      "\n",
      "At cv=  9\n",
      "Cross Val score :  53.79635929446087\n",
      "r2 score is :  66.91602137576673\n",
      "\n",
      "\n"
     ]
    }
   ],
   "source": [
    "dtrr2 = r2_score(y_test,pred_dtr)\n",
    "for k in range(2,10):\n",
    "    dtrscore=cross_val_score(dtr,xs,y,cv=k)\n",
    "    dtrcv=dtrscore.mean()\n",
    "    print(\"At cv= \",k)\n",
    "    print(\"Cross Val score : \",dtrcv*100)\n",
    "    print(\"r2 score is : \",dtrr2*100)\n",
    "    print(\"\\n\")"
   ]
  },
  {
   "cell_type": "markdown",
   "id": "3e40a95a",
   "metadata": {},
   "source": [
    "At cv=  6\n",
    "- Cross Val score :  57.107691100804125\n",
    "- r2 score is :  66.91602137576673"
   ]
  },
  {
   "cell_type": "code",
   "execution_count": 231,
   "id": "fb0ea3fe",
   "metadata": {},
   "outputs": [
    {
     "name": "stdout",
     "output_type": "stream",
     "text": [
      "MAE: 93147.8097133758\n",
      "MSE: 27905947465.540604\n",
      "RMSE: 167050.7332086292\n"
     ]
    }
   ],
   "source": [
    "print('MAE:', metrics.mean_absolute_error(y_test, pred_dtr))\n",
    "print('MSE:', metrics.mean_squared_error(y_test, pred_dtr))\n",
    "print('RMSE:', np.sqrt(metrics.mean_squared_error(y_test, pred_dtr)))"
   ]
  },
  {
   "cell_type": "code",
   "execution_count": 232,
   "id": "cd15272e",
   "metadata": {},
   "outputs": [
    {
     "data": {
      "text/plain": [
       "Text(0, 0.5, 'Y Pred')"
      ]
     },
     "execution_count": 232,
     "metadata": {},
     "output_type": "execute_result"
    },
    {
     "data": {
      "image/png": "[encoded data removed]",
      "text/plain": [
       "<Figure size 432x288 with 1 Axes>"
      ]
     },
     "metadata": {
      "needs_background": "light"
     },
     "output_type": "display_data"
    }
   ],
   "source": [
    "plt.scatter(x=y_test,y=pred_dtr)\n",
    "plt.xlabel('Y Test')\n",
    "plt.ylabel('Y Pred')"
   ]
  },
  {
   "cell_type": "markdown",
   "id": "0659f13d",
   "metadata": {},
   "source": [
    "## Model 3: Random Forest Regressor"
   ]
  },
  {
   "cell_type": "code",
   "execution_count": 237,
   "id": "232805d5",
   "metadata": {},
   "outputs": [
    {
     "name": "stdout",
     "output_type": "stream",
     "text": [
      "Best Estimators for Decision Tree Regression:  {'n_estimators': 300, 'max_features': 'sqrt', 'max_depth': 12, 'criterion': 'poisson'}\n",
      "best r2 score:  0.4313301210331514\n",
      "------------------------------------------\n"
     ]
    }
   ],
   "source": [
    "rf_reg_params =  { 'max_depth': [5,7,10,12], \"criterion\": [\"squared_error\", \"absolute_error\", \"poisson\"],\n",
    "                  'max_features': ['auto', 'log2','sqrt'], 'n_estimators': [250,300,350,200]}\n",
    "rand_rf_reg = RandomizedSearchCV(RandomForestRegressor(), rf_reg_params)\n",
    "\n",
    "rand_rf_reg.fit(x_train, y_train)\n",
    "\n",
    "rf_reg = rand_rf_reg.best_estimator_\n",
    "# print(rf_reg)\n",
    "print(\"Best Estimators for Decision Tree Regression: \", rand_rf_reg.best_params_)\n",
    "print(\"best r2 score: \",rand_rf_reg.best_score_)\n",
    "print(\"------------------------------------------\")"
   ]
  },
  {
   "cell_type": "code",
   "execution_count": 234,
   "id": "4487d6b6",
   "metadata": {},
   "outputs": [],
   "source": [
    "rfr = RandomForestRegressor()\n",
    "# criterion='poisson', max_depth= 10, max_features=\"log2\",n_estimators=200)\n",
    "rfr.fit(x_train, y_train)\n",
    "pred_rfr= rfr.predict(x_test)"
   ]
  },
  {
   "cell_type": "code",
   "execution_count": 235,
   "id": "7b25f2a2",
   "metadata": {},
   "outputs": [
    {
     "name": "stdout",
     "output_type": "stream",
     "text": [
      "At cv=  2\n",
      "Cross Val score :  58.56965108392978\n",
      "r2 score is :  66.91602137576673\n",
      "\n",
      "\n",
      "At cv=  3\n",
      "Cross Val score :  66.21225691008526\n",
      "r2 score is :  66.91602137576673\n",
      "\n",
      "\n",
      "At cv=  4\n",
      "Cross Val score :  71.94726181955497\n",
      "r2 score is :  66.91602137576673\n",
      "\n",
      "\n",
      "At cv=  5\n",
      "Cross Val score :  74.62625839317728\n",
      "r2 score is :  66.91602137576673\n",
      "\n",
      "\n",
      "At cv=  6\n",
      "Cross Val score :  75.63540010179221\n",
      "r2 score is :  66.91602137576673\n",
      "\n",
      "\n",
      "At cv=  7\n",
      "Cross Val score :  76.09381184419757\n",
      "r2 score is :  66.91602137576673\n",
      "\n",
      "\n",
      "At cv=  8\n",
      "Cross Val score :  77.16711569937085\n",
      "r2 score is :  66.91602137576673\n",
      "\n",
      "\n"
     ]
    },
    {
     "ename": "KeyboardInterrupt",
     "evalue": "",
     "output_type": "error",
     "traceback": [
      "\u001b[1;31m---------------------------------------------------------------------------\u001b[0m",
      "\u001b[1;31mKeyboardInterrupt\u001b[0m                         Traceback (most recent call last)",
      "\u001b[1;32m~\\AppData\\Local\\Temp/ipykernel_28896/121337162.py\u001b[0m in \u001b[0;36m<module>\u001b[1;34m\u001b[0m\n\u001b[0;32m      2\u001b[0m \u001b[1;33m\u001b[0m\u001b[0m\n\u001b[0;32m      3\u001b[0m \u001b[1;32mfor\u001b[0m \u001b[0mk\u001b[0m \u001b[1;32min\u001b[0m \u001b[0mrange\u001b[0m\u001b[1;33m(\u001b[0m\u001b[1;36m2\u001b[0m\u001b[1;33m,\u001b[0m\u001b[1;36m10\u001b[0m\u001b[1;33m)\u001b[0m\u001b[1;33m:\u001b[0m\u001b[1;33m\u001b[0m\u001b[1;33m\u001b[0m\u001b[0m\n\u001b[1;32m----> 4\u001b[1;33m     \u001b[0mrfrscore\u001b[0m\u001b[1;33m=\u001b[0m\u001b[0mcross_val_score\u001b[0m\u001b[1;33m(\u001b[0m\u001b[0mrfr\u001b[0m\u001b[1;33m,\u001b[0m\u001b[0mxs\u001b[0m\u001b[1;33m,\u001b[0m\u001b[0my\u001b[0m\u001b[1;33m,\u001b[0m\u001b[0mcv\u001b[0m\u001b[1;33m=\u001b[0m\u001b[0mk\u001b[0m\u001b[1;33m)\u001b[0m\u001b[1;33m\u001b[0m\u001b[1;33m\u001b[0m\u001b[0m\n\u001b[0m\u001b[0;32m      5\u001b[0m     \u001b[0mrfrcv\u001b[0m\u001b[1;33m=\u001b[0m\u001b[0mrfrscore\u001b[0m\u001b[1;33m.\u001b[0m\u001b[0mmean\u001b[0m\u001b[1;33m(\u001b[0m\u001b[1;33m)\u001b[0m\u001b[1;33m\u001b[0m\u001b[1;33m\u001b[0m\u001b[0m\n\u001b[0;32m      6\u001b[0m     \u001b[0mprint\u001b[0m\u001b[1;33m(\u001b[0m\u001b[1;34m\"At cv= \"\u001b[0m\u001b[1;33m,\u001b[0m\u001b[0mk\u001b[0m\u001b[1;33m)\u001b[0m\u001b[1;33m\u001b[0m\u001b[1;33m\u001b[0m\u001b[0m\n",
      "\u001b[1;32m~\\anaconda3\\lib\\site-packages\\sklearn\\utils\\validation.py\u001b[0m in \u001b[0;36minner_f\u001b[1;34m(*args, **kwargs)\u001b[0m\n\u001b[0;32m     61\u001b[0m             \u001b[0mextra_args\u001b[0m \u001b[1;33m=\u001b[0m \u001b[0mlen\u001b[0m\u001b[1;33m(\u001b[0m\u001b[0margs\u001b[0m\u001b[1;33m)\u001b[0m \u001b[1;33m-\u001b[0m \u001b[0mlen\u001b[0m\u001b[1;33m(\u001b[0m\u001b[0mall_args\u001b[0m\u001b[1;33m)\u001b[0m\u001b[1;33m\u001b[0m\u001b[1;33m\u001b[0m\u001b[0m\n\u001b[0;32m     62\u001b[0m             \u001b[1;32mif\u001b[0m \u001b[0mextra_args\u001b[0m \u001b[1;33m<=\u001b[0m \u001b[1;36m0\u001b[0m\u001b[1;33m:\u001b[0m\u001b[1;33m\u001b[0m\u001b[1;33m\u001b[0m\u001b[0m\n\u001b[1;32m---> 63\u001b[1;33m                 \u001b[1;32mreturn\u001b[0m \u001b[0mf\u001b[0m\u001b[1;33m(\u001b[0m\u001b[1;33m*\u001b[0m\u001b[0margs\u001b[0m\u001b[1;33m,\u001b[0m \u001b[1;33m**\u001b[0m\u001b[0mkwargs\u001b[0m\u001b[1;33m)\u001b[0m\u001b[1;33m\u001b[0m\u001b[1;33m\u001b[0m\u001b[0m\n\u001b[0m\u001b[0;32m     64\u001b[0m \u001b[1;33m\u001b[0m\u001b[0m\n\u001b[0;32m     65\u001b[0m             \u001b[1;31m# extra_args > 0\u001b[0m\u001b[1;33m\u001b[0m\u001b[1;33m\u001b[0m\u001b[1;33m\u001b[0m\u001b[0m\n",
      "\u001b[1;32m~\\anaconda3\\lib\\site-packages\\sklearn\\model_selection\\_validation.py\u001b[0m in \u001b[0;36mcross_val_score\u001b[1;34m(estimator, X, y, groups, scoring, cv, n_jobs, verbose, fit_params, pre_dispatch, error_score)\u001b[0m\n\u001b[0;32m    438\u001b[0m     \u001b[0mscorer\u001b[0m \u001b[1;33m=\u001b[0m \u001b[0mcheck_scoring\u001b[0m\u001b[1;33m(\u001b[0m\u001b[0mestimator\u001b[0m\u001b[1;33m,\u001b[0m \u001b[0mscoring\u001b[0m\u001b[1;33m=\u001b[0m\u001b[0mscoring\u001b[0m\u001b[1;33m)\u001b[0m\u001b[1;33m\u001b[0m\u001b[1;33m\u001b[0m\u001b[0m\n\u001b[0;32m    439\u001b[0m \u001b[1;33m\u001b[0m\u001b[0m\n\u001b[1;32m--> 440\u001b[1;33m     cv_results = cross_validate(estimator=estimator, X=X, y=y, groups=groups,\n\u001b[0m\u001b[0;32m    441\u001b[0m                                 \u001b[0mscoring\u001b[0m\u001b[1;33m=\u001b[0m\u001b[1;33m{\u001b[0m\u001b[1;34m'score'\u001b[0m\u001b[1;33m:\u001b[0m \u001b[0mscorer\u001b[0m\u001b[1;33m}\u001b[0m\u001b[1;33m,\u001b[0m \u001b[0mcv\u001b[0m\u001b[1;33m=\u001b[0m\u001b[0mcv\u001b[0m\u001b[1;33m,\u001b[0m\u001b[1;33m\u001b[0m\u001b[1;33m\u001b[0m\u001b[0m\n\u001b[0;32m    442\u001b[0m                                 \u001b[0mn_jobs\u001b[0m\u001b[1;33m=\u001b[0m\u001b[0mn_jobs\u001b[0m\u001b[1;33m,\u001b[0m \u001b[0mverbose\u001b[0m\u001b[1;33m=\u001b[0m\u001b[0mverbose\u001b[0m\u001b[1;33m,\u001b[0m\u001b[1;33m\u001b[0m\u001b[1;33m\u001b[0m\u001b[0m\n",
      "\u001b[1;32m~\\anaconda3\\lib\\site-packages\\sklearn\\utils\\validation.py\u001b[0m in \u001b[0;36minner_f\u001b[1;34m(*args, **kwargs)\u001b[0m\n\u001b[0;32m     61\u001b[0m             \u001b[0mextra_args\u001b[0m \u001b[1;33m=\u001b[0m \u001b[0mlen\u001b[0m\u001b[1;33m(\u001b[0m\u001b[0margs\u001b[0m\u001b[1;33m)\u001b[0m \u001b[1;33m-\u001b[0m \u001b[0mlen\u001b[0m\u001b[1;33m(\u001b[0m\u001b[0mall_args\u001b[0m\u001b[1;33m)\u001b[0m\u001b[1;33m\u001b[0m\u001b[1;33m\u001b[0m\u001b[0m\n\u001b[0;32m     62\u001b[0m             \u001b[1;32mif\u001b[0m \u001b[0mextra_args\u001b[0m \u001b[1;33m<=\u001b[0m \u001b[1;36m0\u001b[0m\u001b[1;33m:\u001b[0m\u001b[1;33m\u001b[0m\u001b[1;33m\u001b[0m\u001b[0m\n\u001b[1;32m---> 63\u001b[1;33m                 \u001b[1;32mreturn\u001b[0m \u001b[0mf\u001b[0m\u001b[1;33m(\u001b[0m\u001b[1;33m*\u001b[0m\u001b[0margs\u001b[0m\u001b[1;33m,\u001b[0m \u001b[1;33m**\u001b[0m\u001b[0mkwargs\u001b[0m\u001b[1;33m)\u001b[0m\u001b[1;33m\u001b[0m\u001b[1;33m\u001b[0m\u001b[0m\n\u001b[0m\u001b[0;32m     64\u001b[0m \u001b[1;33m\u001b[0m\u001b[0m\n\u001b[0;32m     65\u001b[0m             \u001b[1;31m# extra_args > 0\u001b[0m\u001b[1;33m\u001b[0m\u001b[1;33m\u001b[0m\u001b[1;33m\u001b[0m\u001b[0m\n",
      "\u001b[1;32m~\\anaconda3\\lib\\site-packages\\sklearn\\model_selection\\_validation.py\u001b[0m in \u001b[0;36mcross_validate\u001b[1;34m(estimator, X, y, groups, scoring, cv, n_jobs, verbose, fit_params, pre_dispatch, return_train_score, return_estimator, error_score)\u001b[0m\n\u001b[0;32m    244\u001b[0m     parallel = Parallel(n_jobs=n_jobs, verbose=verbose,\n\u001b[0;32m    245\u001b[0m                         pre_dispatch=pre_dispatch)\n\u001b[1;32m--> 246\u001b[1;33m     results = parallel(\n\u001b[0m\u001b[0;32m    247\u001b[0m         delayed(_fit_and_score)(\n\u001b[0;32m    248\u001b[0m             \u001b[0mclone\u001b[0m\u001b[1;33m(\u001b[0m\u001b[0mestimator\u001b[0m\u001b[1;33m)\u001b[0m\u001b[1;33m,\u001b[0m \u001b[0mX\u001b[0m\u001b[1;33m,\u001b[0m \u001b[0my\u001b[0m\u001b[1;33m,\u001b[0m \u001b[0mscorers\u001b[0m\u001b[1;33m,\u001b[0m \u001b[0mtrain\u001b[0m\u001b[1;33m,\u001b[0m \u001b[0mtest\u001b[0m\u001b[1;33m,\u001b[0m \u001b[0mverbose\u001b[0m\u001b[1;33m,\u001b[0m \u001b[1;32mNone\u001b[0m\u001b[1;33m,\u001b[0m\u001b[1;33m\u001b[0m\u001b[1;33m\u001b[0m\u001b[0m\n",
      "\u001b[1;32m~\\anaconda3\\lib\\site-packages\\joblib\\parallel.py\u001b[0m in \u001b[0;36m__call__\u001b[1;34m(self, iterable)\u001b[0m\n\u001b[0;32m   1042\u001b[0m                 \u001b[0mself\u001b[0m\u001b[1;33m.\u001b[0m\u001b[0m_iterating\u001b[0m \u001b[1;33m=\u001b[0m \u001b[0mself\u001b[0m\u001b[1;33m.\u001b[0m\u001b[0m_original_iterator\u001b[0m \u001b[1;32mis\u001b[0m \u001b[1;32mnot\u001b[0m \u001b[1;32mNone\u001b[0m\u001b[1;33m\u001b[0m\u001b[1;33m\u001b[0m\u001b[0m\n\u001b[0;32m   1043\u001b[0m \u001b[1;33m\u001b[0m\u001b[0m\n\u001b[1;32m-> 1044\u001b[1;33m             \u001b[1;32mwhile\u001b[0m \u001b[0mself\u001b[0m\u001b[1;33m.\u001b[0m\u001b[0mdispatch_one_batch\u001b[0m\u001b[1;33m(\u001b[0m\u001b[0miterator\u001b[0m\u001b[1;33m)\u001b[0m\u001b[1;33m:\u001b[0m\u001b[1;33m\u001b[0m\u001b[1;33m\u001b[0m\u001b[0m\n\u001b[0m\u001b[0;32m   1045\u001b[0m                 \u001b[1;32mpass\u001b[0m\u001b[1;33m\u001b[0m\u001b[1;33m\u001b[0m\u001b[0m\n\u001b[0;32m   1046\u001b[0m \u001b[1;33m\u001b[0m\u001b[0m\n",
      "\u001b[1;32m~\\anaconda3\\lib\\site-packages\\joblib\\parallel.py\u001b[0m in \u001b[0;36mdispatch_one_batch\u001b[1;34m(self, iterator)\u001b[0m\n\u001b[0;32m    857\u001b[0m                 \u001b[1;32mreturn\u001b[0m \u001b[1;32mFalse\u001b[0m\u001b[1;33m\u001b[0m\u001b[1;33m\u001b[0m\u001b[0m\n\u001b[0;32m    858\u001b[0m             \u001b[1;32melse\u001b[0m\u001b[1;33m:\u001b[0m\u001b[1;33m\u001b[0m\u001b[1;33m\u001b[0m\u001b[0m\n\u001b[1;32m--> 859\u001b[1;33m                 \u001b[0mself\u001b[0m\u001b[1;33m.\u001b[0m\u001b[0m_dispatch\u001b[0m\u001b[1;33m(\u001b[0m\u001b[0mtasks\u001b[0m\u001b[1;33m)\u001b[0m\u001b[1;33m\u001b[0m\u001b[1;33m\u001b[0m\u001b[0m\n\u001b[0m\u001b[0;32m    860\u001b[0m                 \u001b[1;32mreturn\u001b[0m \u001b[1;32mTrue\u001b[0m\u001b[1;33m\u001b[0m\u001b[1;33m\u001b[0m\u001b[0m\n\u001b[0;32m    861\u001b[0m \u001b[1;33m\u001b[0m\u001b[0m\n",
      "\u001b[1;32m~\\anaconda3\\lib\\site-packages\\joblib\\parallel.py\u001b[0m in \u001b[0;36m_dispatch\u001b[1;34m(self, batch)\u001b[0m\n\u001b[0;32m    775\u001b[0m         \u001b[1;32mwith\u001b[0m \u001b[0mself\u001b[0m\u001b[1;33m.\u001b[0m\u001b[0m_lock\u001b[0m\u001b[1;33m:\u001b[0m\u001b[1;33m\u001b[0m\u001b[1;33m\u001b[0m\u001b[0m\n\u001b[0;32m    776\u001b[0m             \u001b[0mjob_idx\u001b[0m \u001b[1;33m=\u001b[0m \u001b[0mlen\u001b[0m\u001b[1;33m(\u001b[0m\u001b[0mself\u001b[0m\u001b[1;33m.\u001b[0m\u001b[0m_jobs\u001b[0m\u001b[1;33m)\u001b[0m\u001b[1;33m\u001b[0m\u001b[1;33m\u001b[0m\u001b[0m\n\u001b[1;32m--> 777\u001b[1;33m             \u001b[0mjob\u001b[0m \u001b[1;33m=\u001b[0m \u001b[0mself\u001b[0m\u001b[1;33m.\u001b[0m\u001b[0m_backend\u001b[0m\u001b[1;33m.\u001b[0m\u001b[0mapply_async\u001b[0m\u001b[1;33m(\u001b[0m\u001b[0mbatch\u001b[0m\u001b[1;33m,\u001b[0m \u001b[0mcallback\u001b[0m\u001b[1;33m=\u001b[0m\u001b[0mcb\u001b[0m\u001b[1;33m)\u001b[0m\u001b[1;33m\u001b[0m\u001b[1;33m\u001b[0m\u001b[0m\n\u001b[0m\u001b[0;32m    778\u001b[0m             \u001b[1;31m# A job can complete so quickly than its callback is\u001b[0m\u001b[1;33m\u001b[0m\u001b[1;33m\u001b[0m\u001b[1;33m\u001b[0m\u001b[0m\n\u001b[0;32m    779\u001b[0m             \u001b[1;31m# called before we get here, causing self._jobs to\u001b[0m\u001b[1;33m\u001b[0m\u001b[1;33m\u001b[0m\u001b[1;33m\u001b[0m\u001b[0m\n",
      "\u001b[1;32m~\\anaconda3\\lib\\site-packages\\joblib\\_parallel_backends.py\u001b[0m in \u001b[0;36mapply_async\u001b[1;34m(self, func, callback)\u001b[0m\n\u001b[0;32m    206\u001b[0m     \u001b[1;32mdef\u001b[0m \u001b[0mapply_async\u001b[0m\u001b[1;33m(\u001b[0m\u001b[0mself\u001b[0m\u001b[1;33m,\u001b[0m \u001b[0mfunc\u001b[0m\u001b[1;33m,\u001b[0m \u001b[0mcallback\u001b[0m\u001b[1;33m=\u001b[0m\u001b[1;32mNone\u001b[0m\u001b[1;33m)\u001b[0m\u001b[1;33m:\u001b[0m\u001b[1;33m\u001b[0m\u001b[1;33m\u001b[0m\u001b[0m\n\u001b[0;32m    207\u001b[0m         \u001b[1;34m\"\"\"Schedule a func to be run\"\"\"\u001b[0m\u001b[1;33m\u001b[0m\u001b[1;33m\u001b[0m\u001b[0m\n\u001b[1;32m--> 208\u001b[1;33m         \u001b[0mresult\u001b[0m \u001b[1;33m=\u001b[0m \u001b[0mImmediateResult\u001b[0m\u001b[1;33m(\u001b[0m\u001b[0mfunc\u001b[0m\u001b[1;33m)\u001b[0m\u001b[1;33m\u001b[0m\u001b[1;33m\u001b[0m\u001b[0m\n\u001b[0m\u001b[0;32m    209\u001b[0m         \u001b[1;32mif\u001b[0m \u001b[0mcallback\u001b[0m\u001b[1;33m:\u001b[0m\u001b[1;33m\u001b[0m\u001b[1;33m\u001b[0m\u001b[0m\n\u001b[0;32m    210\u001b[0m             \u001b[0mcallback\u001b[0m\u001b[1;33m(\u001b[0m\u001b[0mresult\u001b[0m\u001b[1;33m)\u001b[0m\u001b[1;33m\u001b[0m\u001b[1;33m\u001b[0m\u001b[0m\n",
      "\u001b[1;32m~\\anaconda3\\lib\\site-packages\\joblib\\_parallel_backends.py\u001b[0m in \u001b[0;36m__init__\u001b[1;34m(self, batch)\u001b[0m\n\u001b[0;32m    570\u001b[0m         \u001b[1;31m# Don't delay the application, to avoid keeping the input\u001b[0m\u001b[1;33m\u001b[0m\u001b[1;33m\u001b[0m\u001b[1;33m\u001b[0m\u001b[0m\n\u001b[0;32m    571\u001b[0m         \u001b[1;31m# arguments in memory\u001b[0m\u001b[1;33m\u001b[0m\u001b[1;33m\u001b[0m\u001b[1;33m\u001b[0m\u001b[0m\n\u001b[1;32m--> 572\u001b[1;33m         \u001b[0mself\u001b[0m\u001b[1;33m.\u001b[0m\u001b[0mresults\u001b[0m \u001b[1;33m=\u001b[0m \u001b[0mbatch\u001b[0m\u001b[1;33m(\u001b[0m\u001b[1;33m)\u001b[0m\u001b[1;33m\u001b[0m\u001b[1;33m\u001b[0m\u001b[0m\n\u001b[0m\u001b[0;32m    573\u001b[0m \u001b[1;33m\u001b[0m\u001b[0m\n\u001b[0;32m    574\u001b[0m     \u001b[1;32mdef\u001b[0m \u001b[0mget\u001b[0m\u001b[1;33m(\u001b[0m\u001b[0mself\u001b[0m\u001b[1;33m)\u001b[0m\u001b[1;33m:\u001b[0m\u001b[1;33m\u001b[0m\u001b[1;33m\u001b[0m\u001b[0m\n",
      "\u001b[1;32m~\\anaconda3\\lib\\site-packages\\joblib\\parallel.py\u001b[0m in \u001b[0;36m__call__\u001b[1;34m(self)\u001b[0m\n\u001b[0;32m    260\u001b[0m         \u001b[1;31m# change the default number of processes to -1\u001b[0m\u001b[1;33m\u001b[0m\u001b[1;33m\u001b[0m\u001b[1;33m\u001b[0m\u001b[0m\n\u001b[0;32m    261\u001b[0m         \u001b[1;32mwith\u001b[0m \u001b[0mparallel_backend\u001b[0m\u001b[1;33m(\u001b[0m\u001b[0mself\u001b[0m\u001b[1;33m.\u001b[0m\u001b[0m_backend\u001b[0m\u001b[1;33m,\u001b[0m \u001b[0mn_jobs\u001b[0m\u001b[1;33m=\u001b[0m\u001b[0mself\u001b[0m\u001b[1;33m.\u001b[0m\u001b[0m_n_jobs\u001b[0m\u001b[1;33m)\u001b[0m\u001b[1;33m:\u001b[0m\u001b[1;33m\u001b[0m\u001b[1;33m\u001b[0m\u001b[0m\n\u001b[1;32m--> 262\u001b[1;33m             return [func(*args, **kwargs)\n\u001b[0m\u001b[0;32m    263\u001b[0m                     for func, args, kwargs in self.items]\n\u001b[0;32m    264\u001b[0m \u001b[1;33m\u001b[0m\u001b[0m\n",
      "\u001b[1;32m~\\anaconda3\\lib\\site-packages\\joblib\\parallel.py\u001b[0m in \u001b[0;36m<listcomp>\u001b[1;34m(.0)\u001b[0m\n\u001b[0;32m    260\u001b[0m         \u001b[1;31m# change the default number of processes to -1\u001b[0m\u001b[1;33m\u001b[0m\u001b[1;33m\u001b[0m\u001b[1;33m\u001b[0m\u001b[0m\n\u001b[0;32m    261\u001b[0m         \u001b[1;32mwith\u001b[0m \u001b[0mparallel_backend\u001b[0m\u001b[1;33m(\u001b[0m\u001b[0mself\u001b[0m\u001b[1;33m.\u001b[0m\u001b[0m_backend\u001b[0m\u001b[1;33m,\u001b[0m \u001b[0mn_jobs\u001b[0m\u001b[1;33m=\u001b[0m\u001b[0mself\u001b[0m\u001b[1;33m.\u001b[0m\u001b[0m_n_jobs\u001b[0m\u001b[1;33m)\u001b[0m\u001b[1;33m:\u001b[0m\u001b[1;33m\u001b[0m\u001b[1;33m\u001b[0m\u001b[0m\n\u001b[1;32m--> 262\u001b[1;33m             return [func(*args, **kwargs)\n\u001b[0m\u001b[0;32m    263\u001b[0m                     for func, args, kwargs in self.items]\n\u001b[0;32m    264\u001b[0m \u001b[1;33m\u001b[0m\u001b[0m\n",
      "\u001b[1;32m~\\anaconda3\\lib\\site-packages\\sklearn\\utils\\fixes.py\u001b[0m in \u001b[0;36m__call__\u001b[1;34m(self, *args, **kwargs)\u001b[0m\n\u001b[0;32m    220\u001b[0m     \u001b[1;32mdef\u001b[0m \u001b[0m__call__\u001b[0m\u001b[1;33m(\u001b[0m\u001b[0mself\u001b[0m\u001b[1;33m,\u001b[0m \u001b[1;33m*\u001b[0m\u001b[0margs\u001b[0m\u001b[1;33m,\u001b[0m \u001b[1;33m**\u001b[0m\u001b[0mkwargs\u001b[0m\u001b[1;33m)\u001b[0m\u001b[1;33m:\u001b[0m\u001b[1;33m\u001b[0m\u001b[1;33m\u001b[0m\u001b[0m\n\u001b[0;32m    221\u001b[0m         \u001b[1;32mwith\u001b[0m \u001b[0mconfig_context\u001b[0m\u001b[1;33m(\u001b[0m\u001b[1;33m**\u001b[0m\u001b[0mself\u001b[0m\u001b[1;33m.\u001b[0m\u001b[0mconfig\u001b[0m\u001b[1;33m)\u001b[0m\u001b[1;33m:\u001b[0m\u001b[1;33m\u001b[0m\u001b[1;33m\u001b[0m\u001b[0m\n\u001b[1;32m--> 222\u001b[1;33m             \u001b[1;32mreturn\u001b[0m \u001b[0mself\u001b[0m\u001b[1;33m.\u001b[0m\u001b[0mfunction\u001b[0m\u001b[1;33m(\u001b[0m\u001b[1;33m*\u001b[0m\u001b[0margs\u001b[0m\u001b[1;33m,\u001b[0m \u001b[1;33m**\u001b[0m\u001b[0mkwargs\u001b[0m\u001b[1;33m)\u001b[0m\u001b[1;33m\u001b[0m\u001b[1;33m\u001b[0m\u001b[0m\n\u001b[0m",
      "\u001b[1;32m~\\anaconda3\\lib\\site-packages\\sklearn\\model_selection\\_validation.py\u001b[0m in \u001b[0;36m_fit_and_score\u001b[1;34m(estimator, X, y, scorer, train, test, verbose, parameters, fit_params, return_train_score, return_parameters, return_n_test_samples, return_times, return_estimator, split_progress, candidate_progress, error_score)\u001b[0m\n\u001b[0;32m    591\u001b[0m             \u001b[0mestimator\u001b[0m\u001b[1;33m.\u001b[0m\u001b[0mfit\u001b[0m\u001b[1;33m(\u001b[0m\u001b[0mX_train\u001b[0m\u001b[1;33m,\u001b[0m \u001b[1;33m**\u001b[0m\u001b[0mfit_params\u001b[0m\u001b[1;33m)\u001b[0m\u001b[1;33m\u001b[0m\u001b[1;33m\u001b[0m\u001b[0m\n\u001b[0;32m    592\u001b[0m         \u001b[1;32melse\u001b[0m\u001b[1;33m:\u001b[0m\u001b[1;33m\u001b[0m\u001b[1;33m\u001b[0m\u001b[0m\n\u001b[1;32m--> 593\u001b[1;33m             \u001b[0mestimator\u001b[0m\u001b[1;33m.\u001b[0m\u001b[0mfit\u001b[0m\u001b[1;33m(\u001b[0m\u001b[0mX_train\u001b[0m\u001b[1;33m,\u001b[0m \u001b[0my_train\u001b[0m\u001b[1;33m,\u001b[0m \u001b[1;33m**\u001b[0m\u001b[0mfit_params\u001b[0m\u001b[1;33m)\u001b[0m\u001b[1;33m\u001b[0m\u001b[1;33m\u001b[0m\u001b[0m\n\u001b[0m\u001b[0;32m    594\u001b[0m \u001b[1;33m\u001b[0m\u001b[0m\n\u001b[0;32m    595\u001b[0m     \u001b[1;32mexcept\u001b[0m \u001b[0mException\u001b[0m \u001b[1;32mas\u001b[0m \u001b[0me\u001b[0m\u001b[1;33m:\u001b[0m\u001b[1;33m\u001b[0m\u001b[1;33m\u001b[0m\u001b[0m\n",
      "\u001b[1;32m~\\anaconda3\\lib\\site-packages\\sklearn\\ensemble\\_forest.py\u001b[0m in \u001b[0;36mfit\u001b[1;34m(self, X, y, sample_weight)\u001b[0m\n\u001b[0;32m    385\u001b[0m             \u001b[1;31m# parallel_backend contexts set at a higher level,\u001b[0m\u001b[1;33m\u001b[0m\u001b[1;33m\u001b[0m\u001b[1;33m\u001b[0m\u001b[0m\n\u001b[0;32m    386\u001b[0m             \u001b[1;31m# since correctness does not rely on using threads.\u001b[0m\u001b[1;33m\u001b[0m\u001b[1;33m\u001b[0m\u001b[1;33m\u001b[0m\u001b[0m\n\u001b[1;32m--> 387\u001b[1;33m             trees = Parallel(n_jobs=self.n_jobs, verbose=self.verbose,\n\u001b[0m\u001b[0;32m    388\u001b[0m                              \u001b[1;33m**\u001b[0m\u001b[0m_joblib_parallel_args\u001b[0m\u001b[1;33m(\u001b[0m\u001b[0mprefer\u001b[0m\u001b[1;33m=\u001b[0m\u001b[1;34m'threads'\u001b[0m\u001b[1;33m)\u001b[0m\u001b[1;33m)\u001b[0m\u001b[1;33m(\u001b[0m\u001b[1;33m\u001b[0m\u001b[1;33m\u001b[0m\u001b[0m\n\u001b[0;32m    389\u001b[0m                 delayed(_parallel_build_trees)(\n",
      "\u001b[1;32m~\\anaconda3\\lib\\site-packages\\joblib\\parallel.py\u001b[0m in \u001b[0;36m__call__\u001b[1;34m(self, iterable)\u001b[0m\n\u001b[0;32m   1042\u001b[0m                 \u001b[0mself\u001b[0m\u001b[1;33m.\u001b[0m\u001b[0m_iterating\u001b[0m \u001b[1;33m=\u001b[0m \u001b[0mself\u001b[0m\u001b[1;33m.\u001b[0m\u001b[0m_original_iterator\u001b[0m \u001b[1;32mis\u001b[0m \u001b[1;32mnot\u001b[0m \u001b[1;32mNone\u001b[0m\u001b[1;33m\u001b[0m\u001b[1;33m\u001b[0m\u001b[0m\n\u001b[0;32m   1043\u001b[0m \u001b[1;33m\u001b[0m\u001b[0m\n\u001b[1;32m-> 1044\u001b[1;33m             \u001b[1;32mwhile\u001b[0m \u001b[0mself\u001b[0m\u001b[1;33m.\u001b[0m\u001b[0mdispatch_one_batch\u001b[0m\u001b[1;33m(\u001b[0m\u001b[0miterator\u001b[0m\u001b[1;33m)\u001b[0m\u001b[1;33m:\u001b[0m\u001b[1;33m\u001b[0m\u001b[1;33m\u001b[0m\u001b[0m\n\u001b[0m\u001b[0;32m   1045\u001b[0m                 \u001b[1;32mpass\u001b[0m\u001b[1;33m\u001b[0m\u001b[1;33m\u001b[0m\u001b[0m\n\u001b[0;32m   1046\u001b[0m \u001b[1;33m\u001b[0m\u001b[0m\n",
      "\u001b[1;32m~\\anaconda3\\lib\\site-packages\\joblib\\parallel.py\u001b[0m in \u001b[0;36mdispatch_one_batch\u001b[1;34m(self, iterator)\u001b[0m\n\u001b[0;32m    857\u001b[0m                 \u001b[1;32mreturn\u001b[0m \u001b[1;32mFalse\u001b[0m\u001b[1;33m\u001b[0m\u001b[1;33m\u001b[0m\u001b[0m\n\u001b[0;32m    858\u001b[0m             \u001b[1;32melse\u001b[0m\u001b[1;33m:\u001b[0m\u001b[1;33m\u001b[0m\u001b[1;33m\u001b[0m\u001b[0m\n\u001b[1;32m--> 859\u001b[1;33m                 \u001b[0mself\u001b[0m\u001b[1;33m.\u001b[0m\u001b[0m_dispatch\u001b[0m\u001b[1;33m(\u001b[0m\u001b[0mtasks\u001b[0m\u001b[1;33m)\u001b[0m\u001b[1;33m\u001b[0m\u001b[1;33m\u001b[0m\u001b[0m\n\u001b[0m\u001b[0;32m    860\u001b[0m                 \u001b[1;32mreturn\u001b[0m \u001b[1;32mTrue\u001b[0m\u001b[1;33m\u001b[0m\u001b[1;33m\u001b[0m\u001b[0m\n\u001b[0;32m    861\u001b[0m \u001b[1;33m\u001b[0m\u001b[0m\n",
      "\u001b[1;32m~\\anaconda3\\lib\\site-packages\\joblib\\parallel.py\u001b[0m in \u001b[0;36m_dispatch\u001b[1;34m(self, batch)\u001b[0m\n\u001b[0;32m    775\u001b[0m         \u001b[1;32mwith\u001b[0m \u001b[0mself\u001b[0m\u001b[1;33m.\u001b[0m\u001b[0m_lock\u001b[0m\u001b[1;33m:\u001b[0m\u001b[1;33m\u001b[0m\u001b[1;33m\u001b[0m\u001b[0m\n\u001b[0;32m    776\u001b[0m             \u001b[0mjob_idx\u001b[0m \u001b[1;33m=\u001b[0m \u001b[0mlen\u001b[0m\u001b[1;33m(\u001b[0m\u001b[0mself\u001b[0m\u001b[1;33m.\u001b[0m\u001b[0m_jobs\u001b[0m\u001b[1;33m)\u001b[0m\u001b[1;33m\u001b[0m\u001b[1;33m\u001b[0m\u001b[0m\n\u001b[1;32m--> 777\u001b[1;33m             \u001b[0mjob\u001b[0m \u001b[1;33m=\u001b[0m \u001b[0mself\u001b[0m\u001b[1;33m.\u001b[0m\u001b[0m_backend\u001b[0m\u001b[1;33m.\u001b[0m\u001b[0mapply_async\u001b[0m\u001b[1;33m(\u001b[0m\u001b[0mbatch\u001b[0m\u001b[1;33m,\u001b[0m \u001b[0mcallback\u001b[0m\u001b[1;33m=\u001b[0m\u001b[0mcb\u001b[0m\u001b[1;33m)\u001b[0m\u001b[1;33m\u001b[0m\u001b[1;33m\u001b[0m\u001b[0m\n\u001b[0m\u001b[0;32m    778\u001b[0m             \u001b[1;31m# A job can complete so quickly than its callback is\u001b[0m\u001b[1;33m\u001b[0m\u001b[1;33m\u001b[0m\u001b[1;33m\u001b[0m\u001b[0m\n\u001b[0;32m    779\u001b[0m             \u001b[1;31m# called before we get here, causing self._jobs to\u001b[0m\u001b[1;33m\u001b[0m\u001b[1;33m\u001b[0m\u001b[1;33m\u001b[0m\u001b[0m\n",
      "\u001b[1;32m~\\anaconda3\\lib\\site-packages\\joblib\\_parallel_backends.py\u001b[0m in \u001b[0;36mapply_async\u001b[1;34m(self, func, callback)\u001b[0m\n\u001b[0;32m    206\u001b[0m     \u001b[1;32mdef\u001b[0m \u001b[0mapply_async\u001b[0m\u001b[1;33m(\u001b[0m\u001b[0mself\u001b[0m\u001b[1;33m,\u001b[0m \u001b[0mfunc\u001b[0m\u001b[1;33m,\u001b[0m \u001b[0mcallback\u001b[0m\u001b[1;33m=\u001b[0m\u001b[1;32mNone\u001b[0m\u001b[1;33m)\u001b[0m\u001b[1;33m:\u001b[0m\u001b[1;33m\u001b[0m\u001b[1;33m\u001b[0m\u001b[0m\n\u001b[0;32m    207\u001b[0m         \u001b[1;34m\"\"\"Schedule a func to be run\"\"\"\u001b[0m\u001b[1;33m\u001b[0m\u001b[1;33m\u001b[0m\u001b[0m\n\u001b[1;32m--> 208\u001b[1;33m         \u001b[0mresult\u001b[0m \u001b[1;33m=\u001b[0m \u001b[0mImmediateResult\u001b[0m\u001b[1;33m(\u001b[0m\u001b[0mfunc\u001b[0m\u001b[1;33m)\u001b[0m\u001b[1;33m\u001b[0m\u001b[1;33m\u001b[0m\u001b[0m\n\u001b[0m\u001b[0;32m    209\u001b[0m         \u001b[1;32mif\u001b[0m \u001b[0mcallback\u001b[0m\u001b[1;33m:\u001b[0m\u001b[1;33m\u001b[0m\u001b[1;33m\u001b[0m\u001b[0m\n\u001b[0;32m    210\u001b[0m             \u001b[0mcallback\u001b[0m\u001b[1;33m(\u001b[0m\u001b[0mresult\u001b[0m\u001b[1;33m)\u001b[0m\u001b[1;33m\u001b[0m\u001b[1;33m\u001b[0m\u001b[0m\n",
      "\u001b[1;32m~\\anaconda3\\lib\\site-packages\\joblib\\_parallel_backends.py\u001b[0m in \u001b[0;36m__init__\u001b[1;34m(self, batch)\u001b[0m\n\u001b[0;32m    570\u001b[0m         \u001b[1;31m# Don't delay the application, to avoid keeping the input\u001b[0m\u001b[1;33m\u001b[0m\u001b[1;33m\u001b[0m\u001b[1;33m\u001b[0m\u001b[0m\n\u001b[0;32m    571\u001b[0m         \u001b[1;31m# arguments in memory\u001b[0m\u001b[1;33m\u001b[0m\u001b[1;33m\u001b[0m\u001b[1;33m\u001b[0m\u001b[0m\n\u001b[1;32m--> 572\u001b[1;33m         \u001b[0mself\u001b[0m\u001b[1;33m.\u001b[0m\u001b[0mresults\u001b[0m \u001b[1;33m=\u001b[0m \u001b[0mbatch\u001b[0m\u001b[1;33m(\u001b[0m\u001b[1;33m)\u001b[0m\u001b[1;33m\u001b[0m\u001b[1;33m\u001b[0m\u001b[0m\n\u001b[0m\u001b[0;32m    573\u001b[0m \u001b[1;33m\u001b[0m\u001b[0m\n\u001b[0;32m    574\u001b[0m     \u001b[1;32mdef\u001b[0m \u001b[0mget\u001b[0m\u001b[1;33m(\u001b[0m\u001b[0mself\u001b[0m\u001b[1;33m)\u001b[0m\u001b[1;33m:\u001b[0m\u001b[1;33m\u001b[0m\u001b[1;33m\u001b[0m\u001b[0m\n",
      "\u001b[1;32m~\\anaconda3\\lib\\site-packages\\joblib\\parallel.py\u001b[0m in \u001b[0;36m__call__\u001b[1;34m(self)\u001b[0m\n\u001b[0;32m    260\u001b[0m         \u001b[1;31m# change the default number of processes to -1\u001b[0m\u001b[1;33m\u001b[0m\u001b[1;33m\u001b[0m\u001b[1;33m\u001b[0m\u001b[0m\n\u001b[0;32m    261\u001b[0m         \u001b[1;32mwith\u001b[0m \u001b[0mparallel_backend\u001b[0m\u001b[1;33m(\u001b[0m\u001b[0mself\u001b[0m\u001b[1;33m.\u001b[0m\u001b[0m_backend\u001b[0m\u001b[1;33m,\u001b[0m \u001b[0mn_jobs\u001b[0m\u001b[1;33m=\u001b[0m\u001b[0mself\u001b[0m\u001b[1;33m.\u001b[0m\u001b[0m_n_jobs\u001b[0m\u001b[1;33m)\u001b[0m\u001b[1;33m:\u001b[0m\u001b[1;33m\u001b[0m\u001b[1;33m\u001b[0m\u001b[0m\n\u001b[1;32m--> 262\u001b[1;33m             return [func(*args, **kwargs)\n\u001b[0m\u001b[0;32m    263\u001b[0m                     for func, args, kwargs in self.items]\n\u001b[0;32m    264\u001b[0m \u001b[1;33m\u001b[0m\u001b[0m\n",
      "\u001b[1;32m~\\anaconda3\\lib\\site-packages\\joblib\\parallel.py\u001b[0m in \u001b[0;36m<listcomp>\u001b[1;34m(.0)\u001b[0m\n\u001b[0;32m    260\u001b[0m         \u001b[1;31m# change the default number of processes to -1\u001b[0m\u001b[1;33m\u001b[0m\u001b[1;33m\u001b[0m\u001b[1;33m\u001b[0m\u001b[0m\n\u001b[0;32m    261\u001b[0m         \u001b[1;32mwith\u001b[0m \u001b[0mparallel_backend\u001b[0m\u001b[1;33m(\u001b[0m\u001b[0mself\u001b[0m\u001b[1;33m.\u001b[0m\u001b[0m_backend\u001b[0m\u001b[1;33m,\u001b[0m \u001b[0mn_jobs\u001b[0m\u001b[1;33m=\u001b[0m\u001b[0mself\u001b[0m\u001b[1;33m.\u001b[0m\u001b[0m_n_jobs\u001b[0m\u001b[1;33m)\u001b[0m\u001b[1;33m:\u001b[0m\u001b[1;33m\u001b[0m\u001b[1;33m\u001b[0m\u001b[0m\n\u001b[1;32m--> 262\u001b[1;33m             return [func(*args, **kwargs)\n\u001b[0m\u001b[0;32m    263\u001b[0m                     for func, args, kwargs in self.items]\n\u001b[0;32m    264\u001b[0m \u001b[1;33m\u001b[0m\u001b[0m\n",
      "\u001b[1;32m~\\anaconda3\\lib\\site-packages\\sklearn\\utils\\fixes.py\u001b[0m in \u001b[0;36m__call__\u001b[1;34m(self, *args, **kwargs)\u001b[0m\n\u001b[0;32m    220\u001b[0m     \u001b[1;32mdef\u001b[0m \u001b[0m__call__\u001b[0m\u001b[1;33m(\u001b[0m\u001b[0mself\u001b[0m\u001b[1;33m,\u001b[0m \u001b[1;33m*\u001b[0m\u001b[0margs\u001b[0m\u001b[1;33m,\u001b[0m \u001b[1;33m**\u001b[0m\u001b[0mkwargs\u001b[0m\u001b[1;33m)\u001b[0m\u001b[1;33m:\u001b[0m\u001b[1;33m\u001b[0m\u001b[1;33m\u001b[0m\u001b[0m\n\u001b[0;32m    221\u001b[0m         \u001b[1;32mwith\u001b[0m \u001b[0mconfig_context\u001b[0m\u001b[1;33m(\u001b[0m\u001b[1;33m**\u001b[0m\u001b[0mself\u001b[0m\u001b[1;33m.\u001b[0m\u001b[0mconfig\u001b[0m\u001b[1;33m)\u001b[0m\u001b[1;33m:\u001b[0m\u001b[1;33m\u001b[0m\u001b[1;33m\u001b[0m\u001b[0m\n\u001b[1;32m--> 222\u001b[1;33m             \u001b[1;32mreturn\u001b[0m \u001b[0mself\u001b[0m\u001b[1;33m.\u001b[0m\u001b[0mfunction\u001b[0m\u001b[1;33m(\u001b[0m\u001b[1;33m*\u001b[0m\u001b[0margs\u001b[0m\u001b[1;33m,\u001b[0m \u001b[1;33m**\u001b[0m\u001b[0mkwargs\u001b[0m\u001b[1;33m)\u001b[0m\u001b[1;33m\u001b[0m\u001b[1;33m\u001b[0m\u001b[0m\n\u001b[0m",
      "\u001b[1;32m~\\anaconda3\\lib\\site-packages\\sklearn\\ensemble\\_forest.py\u001b[0m in \u001b[0;36m_parallel_build_trees\u001b[1;34m(tree, forest, X, y, sample_weight, tree_idx, n_trees, verbose, class_weight, n_samples_bootstrap)\u001b[0m\n\u001b[0;32m    167\u001b[0m                                                         indices=indices)\n\u001b[0;32m    168\u001b[0m \u001b[1;33m\u001b[0m\u001b[0m\n\u001b[1;32m--> 169\u001b[1;33m         \u001b[0mtree\u001b[0m\u001b[1;33m.\u001b[0m\u001b[0mfit\u001b[0m\u001b[1;33m(\u001b[0m\u001b[0mX\u001b[0m\u001b[1;33m,\u001b[0m \u001b[0my\u001b[0m\u001b[1;33m,\u001b[0m \u001b[0msample_weight\u001b[0m\u001b[1;33m=\u001b[0m\u001b[0mcurr_sample_weight\u001b[0m\u001b[1;33m,\u001b[0m \u001b[0mcheck_input\u001b[0m\u001b[1;33m=\u001b[0m\u001b[1;32mFalse\u001b[0m\u001b[1;33m)\u001b[0m\u001b[1;33m\u001b[0m\u001b[1;33m\u001b[0m\u001b[0m\n\u001b[0m\u001b[0;32m    170\u001b[0m     \u001b[1;32melse\u001b[0m\u001b[1;33m:\u001b[0m\u001b[1;33m\u001b[0m\u001b[1;33m\u001b[0m\u001b[0m\n\u001b[0;32m    171\u001b[0m         \u001b[0mtree\u001b[0m\u001b[1;33m.\u001b[0m\u001b[0mfit\u001b[0m\u001b[1;33m(\u001b[0m\u001b[0mX\u001b[0m\u001b[1;33m,\u001b[0m \u001b[0my\u001b[0m\u001b[1;33m,\u001b[0m \u001b[0msample_weight\u001b[0m\u001b[1;33m=\u001b[0m\u001b[0msample_weight\u001b[0m\u001b[1;33m,\u001b[0m \u001b[0mcheck_input\u001b[0m\u001b[1;33m=\u001b[0m\u001b[1;32mFalse\u001b[0m\u001b[1;33m)\u001b[0m\u001b[1;33m\u001b[0m\u001b[1;33m\u001b[0m\u001b[0m\n",
      "\u001b[1;32m~\\anaconda3\\lib\\site-packages\\sklearn\\tree\\_classes.py\u001b[0m in \u001b[0;36mfit\u001b[1;34m(self, X, y, sample_weight, check_input, X_idx_sorted)\u001b[0m\n\u001b[0;32m   1245\u001b[0m         \"\"\"\n\u001b[0;32m   1246\u001b[0m \u001b[1;33m\u001b[0m\u001b[0m\n\u001b[1;32m-> 1247\u001b[1;33m         super().fit(\n\u001b[0m\u001b[0;32m   1248\u001b[0m             \u001b[0mX\u001b[0m\u001b[1;33m,\u001b[0m \u001b[0my\u001b[0m\u001b[1;33m,\u001b[0m\u001b[1;33m\u001b[0m\u001b[1;33m\u001b[0m\u001b[0m\n\u001b[0;32m   1249\u001b[0m             \u001b[0msample_weight\u001b[0m\u001b[1;33m=\u001b[0m\u001b[0msample_weight\u001b[0m\u001b[1;33m,\u001b[0m\u001b[1;33m\u001b[0m\u001b[1;33m\u001b[0m\u001b[0m\n",
      "\u001b[1;32m~\\anaconda3\\lib\\site-packages\\sklearn\\tree\\_classes.py\u001b[0m in \u001b[0;36mfit\u001b[1;34m(self, X, y, sample_weight, check_input, X_idx_sorted)\u001b[0m\n\u001b[0;32m    387\u001b[0m                                            min_impurity_split)\n\u001b[0;32m    388\u001b[0m \u001b[1;33m\u001b[0m\u001b[0m\n\u001b[1;32m--> 389\u001b[1;33m         \u001b[0mbuilder\u001b[0m\u001b[1;33m.\u001b[0m\u001b[0mbuild\u001b[0m\u001b[1;33m(\u001b[0m\u001b[0mself\u001b[0m\u001b[1;33m.\u001b[0m\u001b[0mtree_\u001b[0m\u001b[1;33m,\u001b[0m \u001b[0mX\u001b[0m\u001b[1;33m,\u001b[0m \u001b[0my\u001b[0m\u001b[1;33m,\u001b[0m \u001b[0msample_weight\u001b[0m\u001b[1;33m)\u001b[0m\u001b[1;33m\u001b[0m\u001b[1;33m\u001b[0m\u001b[0m\n\u001b[0m\u001b[0;32m    390\u001b[0m \u001b[1;33m\u001b[0m\u001b[0m\n\u001b[0;32m    391\u001b[0m         \u001b[1;32mif\u001b[0m \u001b[0mself\u001b[0m\u001b[1;33m.\u001b[0m\u001b[0mn_outputs_\u001b[0m \u001b[1;33m==\u001b[0m \u001b[1;36m1\u001b[0m \u001b[1;32mand\u001b[0m \u001b[0mis_classifier\u001b[0m\u001b[1;33m(\u001b[0m\u001b[0mself\u001b[0m\u001b[1;33m)\u001b[0m\u001b[1;33m:\u001b[0m\u001b[1;33m\u001b[0m\u001b[1;33m\u001b[0m\u001b[0m\n",
      "\u001b[1;31mKeyboardInterrupt\u001b[0m: "
     ]
    }
   ],
   "source": [
    "rfrr2 = r2_score(y_test,pred_dtr)\n",
    "\n",
    "for k in range(2,10):\n",
    "    rfrscore=cross_val_score(rfr,xs,y,cv=k)\n",
    "    rfrcv=rfrscore.mean()\n",
    "    print(\"At cv= \",k)\n",
    "    print(\"Cross Val score : \",rfrcv*100)\n",
    "    print(\"r2 score is : \",rfrr2*100)\n",
    "    print(\"\\n\")"
   ]
  },
  {
   "cell_type": "markdown",
   "id": "f7dd9141",
   "metadata": {},
   "source": [
    "At cv=  3\n",
    "- Cross Val score :  66.21225691008526\n",
    "- r2 score is :  66.91602137576673"
   ]
  },
  {
   "cell_type": "code",
   "execution_count": 238,
   "id": "d98a6604",
   "metadata": {},
   "outputs": [
    {
     "name": "stdout",
     "output_type": "stream",
     "text": [
      "MAE: 74629.86048964968\n",
      "MSE: 15843003619.866734\n",
      "RMSE: 125868.99387802674\n"
     ]
    }
   ],
   "source": [
    "print('MAE:', metrics.mean_absolute_error(y_test, pred_rfr))\n",
    "print('MSE:', metrics.mean_squared_error(y_test, pred_rfr))\n",
    "print('RMSE:', np.sqrt(metrics.mean_squared_error(y_test, pred_rfr)))"
   ]
  },
  {
   "cell_type": "code",
   "execution_count": 241,
   "id": "50adfa9a",
   "metadata": {},
   "outputs": [
    {
     "data": {
      "text/plain": [
       "<AxesSubplot:xlabel='price', ylabel='Density'>"
      ]
     },
     "execution_count": 241,
     "metadata": {},
     "output_type": "execute_result"
    },
    {
     "data": {
      "image/png": "[encoded data removed]",
      "text/plain": [
       "<Figure size 432x288 with 1 Axes>"
      ]
     },
     "metadata": {
      "needs_background": "light"
     },
     "output_type": "display_data"
    }
   ],
   "source": [
    "sns.distplot((y_test-pred_rfr),bins=50)\n"
   ]
  },
  {
   "cell_type": "code",
   "execution_count": 242,
   "id": "29b8a666",
   "metadata": {},
   "outputs": [
    {
     "data": {
      "text/plain": [
       "Text(0, 0.5, 'Y Pred')"
      ]
     },
     "execution_count": 242,
     "metadata": {},
     "output_type": "execute_result"
    },
    {
     "data": {
      "image/png": "[encoded data removed]",
      "text/plain": [
       "<Figure size 432x288 with 1 Axes>"
      ]
     },
     "metadata": {
      "needs_background": "light"
     },
     "output_type": "display_data"
    }
   ],
   "source": [
    "plt.scatter(x=y_test,y=pred_rfr)\n",
    "plt.xlabel('Y Test')\n",
    "plt.ylabel('Y Pred')"
   ]
  },
  {
   "cell_type": "markdown",
   "id": "5630f5e7",
   "metadata": {},
   "source": [
    "## Model 4: XGB Regressor"
   ]
  },
  {
   "cell_type": "code",
   "execution_count": 243,
   "id": "6c731bd7",
   "metadata": {},
   "outputs": [],
   "source": [
    "from xgboost import XGBRegressor"
   ]
  },
  {
   "cell_type": "code",
   "execution_count": 246,
   "id": "0252f533",
   "metadata": {},
   "outputs": [
    {
     "name": "stdout",
     "output_type": "stream",
     "text": [
      "Best Estimators for Decision Tree Regression:  {'n_estimators': 300, 'importance_type': 'split', 'eta': 0.1, 'booster': 'gbtree'}\n",
      "best r2 score:  0.8493897338109322\n",
      "------------------------------------------\n"
     ]
    }
   ],
   "source": [
    "xgb_reg_params =  {'booster' : ['gbtree','dart','gblinear'], 'importance_type' : ['gain','split'],'n_estimators' : [100,200,300],'eta' : [0.001, 0.01, 0.1]}\n",
    "rand_xgb_reg = RandomizedSearchCV(XGBRegressor(), xgb_reg_params)\n",
    "\n",
    "rand_xgb_reg.fit(x_train, y_train)\n",
    "\n",
    "xgb_reg = rand_xgb_reg.best_estimator_\n",
    "# print(rf_reg)\n",
    "print(\"Best Estimators for Decision Tree Regression: \", rand_xgb_reg.best_params_)\n",
    "print(\"best r2 score: \",rand_xgb_reg.best_score_)\n",
    "print(\"------------------------------------------\")"
   ]
  },
  {
   "cell_type": "code",
   "execution_count": 247,
   "id": "2faa1cff",
   "metadata": {},
   "outputs": [],
   "source": [
    "xgb = XGBRegressor(n_estimators= 300, importance_type= 'split', eta=0.1, booster='gbtree')\n",
    "xgb.fit(x_train,y_train)\n",
    "xgb.score(x_train,y_train)\n",
    "pred_xgb = xgb.predict(x_test)"
   ]
  },
  {
   "cell_type": "code",
   "execution_count": 248,
   "id": "5d6eda1c",
   "metadata": {},
   "outputs": [
    {
     "data": {
      "text/plain": [
       "0.8668541041192348"
      ]
     },
     "execution_count": 248,
     "metadata": {},
     "output_type": "execute_result"
    }
   ],
   "source": [
    "xgbs = r2_score(y_test,pred_xgb)\n",
    "xgbs"
   ]
  },
  {
   "cell_type": "code",
   "execution_count": 254,
   "id": "9b782255",
   "metadata": {
    "scrolled": true
   },
   "outputs": [
    {
     "name": "stdout",
     "output_type": "stream",
     "text": [
      "At cv=  5\n",
      "Cross Val score :  80.18164377746565\n",
      "r2 score is :  86.68541041192348\n",
      "\n",
      "\n",
      "At cv=  6\n",
      "Cross Val score :  80.68685167680081\n",
      "r2 score is :  86.68541041192348\n",
      "\n",
      "\n",
      "At cv=  7\n",
      "Cross Val score :  83.45996117921885\n",
      "r2 score is :  86.68541041192348\n",
      "\n",
      "\n",
      "At cv=  8\n",
      "Cross Val score :  82.96916459647099\n",
      "r2 score is :  86.68541041192348\n",
      "\n",
      "\n"
     ]
    }
   ],
   "source": [
    "xgbs = r2_score(y_test,pred_xgb)\n",
    "\n",
    "for k in range(5,9):\n",
    "    xgbscore=cross_val_score(xgb,xs,y,cv=k)\n",
    "    xgbcv=xgbscore.mean()\n",
    "    print(\"At cv= \",k)\n",
    "    print(\"Cross Val score : \",xgbcv*100)\n",
    "    print(\"r2 score is : \",xgbs*100)\n",
    "    print(\"\\n\")"
   ]
  },
  {
   "cell_type": "markdown",
   "id": "10803376",
   "metadata": {},
   "source": [
    "At cv=  7\n",
    "- Cross Val score :  83.45996117921885\n",
    "- r2 score is :  86.68541041192348"
   ]
  },
  {
   "cell_type": "code",
   "execution_count": 258,
   "id": "abc00414",
   "metadata": {},
   "outputs": [
    {
     "name": "stdout",
     "output_type": "stream",
     "text": [
      "MAE: 63891.28313159335\n",
      "MSE: 11230699964.784185\n",
      "RMSE: 105974.99688503976\n"
     ]
    }
   ],
   "source": [
    "print('MAE:', metrics.mean_absolute_error(y_test, pred_xgb))\n",
    "print('MSE:', metrics.mean_squared_error(y_test, pred_xgb))\n",
    "print('RMSE:', np.sqrt(metrics.mean_squared_error(y_test, pred_xgb)))"
   ]
  },
  {
   "cell_type": "code",
   "execution_count": 259,
   "id": "0a52062b",
   "metadata": {},
   "outputs": [
    {
     "data": {
      "image/png": "[encoded data removed]",
      "text/plain": [
       "<Figure size 432x288 with 1 Axes>"
      ]
     },
     "metadata": {
      "needs_background": "light"
     },
     "output_type": "display_data"
    }
   ],
   "source": [
    "plt.figure(figsize=(6,4))\n",
    "plt.scatter(x=y_test, y=pred_xgb, color='r')\n",
    "plt.plot(y_test,y_test, color='b')\n",
    "plt.xlabel('Actual ',fontsize=14)\n",
    "plt.ylabel('Predicted ',fontsize=14)\n",
    "plt.title('XGB Regression',fontsize=18)\n",
    "plt.show()"
   ]
  },
  {
   "cell_type": "code",
   "execution_count": 261,
   "id": "a13d8bb3",
   "metadata": {},
   "outputs": [
    {
     "data": {
      "text/plain": [
       "<AxesSubplot:xlabel='price', ylabel='Density'>"
      ]
     },
     "execution_count": 261,
     "metadata": {},
     "output_type": "execute_result"
    },
    {
     "data": {
      "image/png": "[encoded data removed]",
      "text/plain": [
       "<Figure size 432x288 with 1 Axes>"
      ]
     },
     "metadata": {
      "needs_background": "light"
     },
     "output_type": "display_data"
    }
   ],
   "source": [
    "sns.distplot((y_test-pred_xgb),bins=50)\n"
   ]
  },
  {
   "cell_type": "markdown",
   "id": "1fbbc289",
   "metadata": {},
   "source": [
    "- We can see that XGB reggressor is performing the best as evident from the Cross Val score :  83.45996117921885 and r2 score is :  86.68541041192348"
   ]
  },
  {
   "cell_type": "markdown",
   "id": "2fa5109c",
   "metadata": {},
   "source": [
    "# Saving the model"
   ]
  },
  {
   "cell_type": "code",
   "execution_count": 268,
   "id": "22d10f56",
   "metadata": {},
   "outputs": [],
   "source": [
    "filename = \"used_car_price_pred.pkl\"\n",
    "pickle.dump(xgb,open(filename,'wb'))"
   ]
  },
  {
   "cell_type": "code",
   "execution_count": 270,
   "id": "3cd837b6",
   "metadata": {},
   "outputs": [
    {
     "data": {
      "text/html": [
       "<div>\n",
       "<style scoped>\n",
       "    .dataframe tbody tr th:only-of-type {\n",
       "        vertical-align: middle;\n",
       "    }\n",
       "\n",
       "    .dataframe tbody tr th {\n",
       "        vertical-align: top;\n",
       "    }\n",
       "\n",
       "    .dataframe thead th {\n",
       "        text-align: right;\n",
       "    }\n",
       "</style>\n",
       "<table border=\"1\" class=\"dataframe\">\n",
       "  <thead>\n",
       "    <tr style=\"text-align: right;\">\n",
       "      <th></th>\n",
       "      <th>original</th>\n",
       "      <th>predicted</th>\n",
       "    </tr>\n",
       "  </thead>\n",
       "  <tbody>\n",
       "    <tr>\n",
       "      <th>0</th>\n",
       "      <td>1264499</td>\n",
       "      <td>1.379576e+06</td>\n",
       "    </tr>\n",
       "    <tr>\n",
       "      <th>1</th>\n",
       "      <td>299000</td>\n",
       "      <td>2.988018e+05</td>\n",
       "    </tr>\n",
       "    <tr>\n",
       "      <th>2</th>\n",
       "      <td>399047</td>\n",
       "      <td>3.876838e+05</td>\n",
       "    </tr>\n",
       "    <tr>\n",
       "      <th>3</th>\n",
       "      <td>609426</td>\n",
       "      <td>6.295355e+05</td>\n",
       "    </tr>\n",
       "    <tr>\n",
       "      <th>4</th>\n",
       "      <td>901999</td>\n",
       "      <td>8.741569e+05</td>\n",
       "    </tr>\n",
       "    <tr>\n",
       "      <th>...</th>\n",
       "      <td>...</td>\n",
       "      <td>...</td>\n",
       "    </tr>\n",
       "    <tr>\n",
       "      <th>1251</th>\n",
       "      <td>508432</td>\n",
       "      <td>4.928964e+05</td>\n",
       "    </tr>\n",
       "    <tr>\n",
       "      <th>1252</th>\n",
       "      <td>290000</td>\n",
       "      <td>2.824703e+05</td>\n",
       "    </tr>\n",
       "    <tr>\n",
       "      <th>1253</th>\n",
       "      <td>1053295</td>\n",
       "      <td>8.841284e+05</td>\n",
       "    </tr>\n",
       "    <tr>\n",
       "      <th>1254</th>\n",
       "      <td>559204</td>\n",
       "      <td>5.136549e+05</td>\n",
       "    </tr>\n",
       "    <tr>\n",
       "      <th>1255</th>\n",
       "      <td>641118</td>\n",
       "      <td>7.201356e+05</td>\n",
       "    </tr>\n",
       "  </tbody>\n",
       "</table>\n",
       "<p>1256 rows × 2 columns</p>\n",
       "</div>"
      ],
      "text/plain": [
       "      original     predicted\n",
       "0      1264499  1.379576e+06\n",
       "1       299000  2.988018e+05\n",
       "2       399047  3.876838e+05\n",
       "3       609426  6.295355e+05\n",
       "4       901999  8.741569e+05\n",
       "...        ...           ...\n",
       "1251    508432  4.928964e+05\n",
       "1252    290000  2.824703e+05\n",
       "1253   1053295  8.841284e+05\n",
       "1254    559204  5.136549e+05\n",
       "1255    641118  7.201356e+05\n",
       "\n",
       "[1256 rows x 2 columns]"
      ]
     },
     "execution_count": 270,
     "metadata": {},
     "output_type": "execute_result"
    }
   ],
   "source": [
    "h = np.array(y_test)\n",
    "predicted = np.array(pred_xgb)\n",
    "df_comp = pd.DataFrame({\"original\":h, \"predicted\":predicted},index=range(len(h)))\n",
    "df_comp"
   ]
  },
  {
   "cell_type": "code",
   "execution_count": null,
   "id": "8c404ade",
   "metadata": {},
   "outputs": [],
   "source": []
  },
  {
   "cell_type": "code",
   "execution_count": null,
   "id": "aa64334c",
   "metadata": {},
   "outputs": [],
   "source": []
  },
  {
   "cell_type": "code",
   "execution_count": null,
   "id": "4983b20d",
   "metadata": {},
   "outputs": [],
   "source": []
  },
  {
   "cell_type": "code",
   "execution_count": null,
   "id": "65a80db6",
   "metadata": {},
   "outputs": [],
   "source": []
  },
  {
   "cell_type": "code",
   "execution_count": null,
   "id": "a579c040",
   "metadata": {},
   "outputs": [],
   "source": []
  },
  {
   "cell_type": "code",
   "execution_count": null,
   "id": "5de1a80e",
   "metadata": {},
   "outputs": [],
   "source": []
  },
  {
   "cell_type": "code",
   "execution_count": null,
   "id": "c37f2708",
   "metadata": {},
   "outputs": [],
   "source": []
  },
  {
   "cell_type": "code",
   "execution_count": null,
   "id": "bce2faed",
   "metadata": {},
   "outputs": [],
   "source": []
  },
  {
   "cell_type": "code",
   "execution_count": null,
   "id": "e02b9028",
   "metadata": {},
   "outputs": [],
   "source": []
  },
  {
   "cell_type": "code",
   "execution_count": null,
   "id": "ac109150",
   "metadata": {},
   "outputs": [],
   "source": []
  },
  {
   "cell_type": "code",
   "execution_count": null,
   "id": "a400f37d",
   "metadata": {},
   "outputs": [],
   "source": []
  },
  {
   "cell_type": "code",
   "execution_count": null,
   "id": "b8035dd7",
   "metadata": {},
   "outputs": [],
   "source": []
  },
  {
   "cell_type": "code",
   "execution_count": null,
   "id": "031a5163",
   "metadata": {},
   "outputs": [],
   "source": []
  },
  {
   "cell_type": "code",
   "execution_count": null,
   "id": "bdcc331f",
   "metadata": {},
   "outputs": [],
   "source": []
  },
  {
   "cell_type": "code",
   "execution_count": null,
   "id": "c5bfd761",
   "metadata": {},
   "outputs": [],
   "source": []
  },
  {
   "cell_type": "code",
   "execution_count": null,
   "id": "49275b76",
   "metadata": {},
   "outputs": [],
   "source": []
  },
  {
   "cell_type": "code",
   "execution_count": null,
   "id": "d54dc66e",
   "metadata": {},
   "outputs": [],
   "source": []
  },
  {
   "cell_type": "code",
   "execution_count": null,
   "id": "ee3bd12f",
   "metadata": {},
   "outputs": [],
   "source": []
  },
  {
   "cell_type": "code",
   "execution_count": null,
   "id": "520c78bc",
   "metadata": {},
   "outputs": [],
   "source": []
  },
  {
   "cell_type": "code",
   "execution_count": null,
   "id": "be1adc6b",
   "metadata": {},
   "outputs": [],
   "source": []
  }
 ],
 "metadata": {
  "kernelspec": {
   "display_name": "Python 3 (ipykernel)",
   "language": "python",
   "name": "python3"
  },
  "language_info": {
   "codemirror_mode": {
    "name": "ipython",
    "version": 3
   },
   "file_extension": ".py",
   "mimetype": "text/x-python",
   "name": "python",
   "nbconvert_exporter": "python",
   "pygments_lexer": "ipython3",
   "version": "3.8.8"
  }
 },
 "nbformat": 4,
 "nbformat_minor": 5
}
